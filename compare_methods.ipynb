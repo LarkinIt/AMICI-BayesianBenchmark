{
 "cells": [
  {
   "cell_type": "markdown",
   "metadata": {},
   "source": [
    "# Compare methods notebook"
   ]
  },
  {
   "cell_type": "code",
   "execution_count": null,
   "metadata": {},
   "outputs": [],
   "source": [
    "import glob\n",
    "import os\n",
    "import gzip\n",
    "import pickle\n",
    "import numpy as np\n",
    "import pandas as pd\n",
    "import seaborn as sns\n",
    "import matplotlib.pyplot as plt\n",
    "from modelproblem import ModelProblem\n",
    "from result_classes import Result,MethodResults"
   ]
  },
  {
   "cell_type": "code",
   "execution_count": null,
   "metadata": {},
   "outputs": [],
   "source": [
    "prob_name = \"Hopf\"\n",
    "methods = [\"smc\", \"pmc\"]#, \"ptmcmc\"]\n",
    "\n",
    "mod_prob = ModelProblem(prob_name)\n",
    "mod_prob.initialize()\n",
    "\n",
    "grouped_results = [MethodResults(x) for x in methods]\n",
    "\n",
    "for method, group_obj in zip(methods, grouped_results):\n",
    "\tresult_dir = f\"results/{prob_name}/{method}/\"\n",
    "\tfnames = glob.glob(result_dir + \"*.pkl\")\n",
    "\tfor fname in fnames:\n",
    "\t\twith gzip.open(fname, \"rb\") as f:\n",
    "\t\t\tresults = pickle.load(f)\n",
    "\t\tresult_obj = Result(results)\n",
    "\t\tgroup_obj.add_result(result_obj)\t\t"
   ]
  },
  {
   "cell_type": "markdown",
   "metadata": {},
   "source": [
    "## Calculate the percentage of runs that converged in PT-MCMC"
   ]
  },
  {
   "cell_type": "code",
   "execution_count": null,
   "metadata": {},
   "outputs": [],
   "source": [
    "try:\n",
    "\tptmcmc_idx = methods.index(\"ptmcmc\")\n",
    "\tptmcmc_group = grouped_results[ptmcmc_idx]\n",
    "\tn_runs = len(ptmcmc_group.all_runs)\n",
    "\tn_converged = 0\n",
    "\tfor i in range(n_runs):\n",
    "\t\tif ptmcmc_group.all_runs[i].converged:\n",
    "\t\t\tn_converged+=1\n",
    "\tprint(f\"{n_converged:d} of {n_runs:d} runs have converged\\nConvergence percentage: {n_converged/n_runs:.2f}\")\n",
    "except ValueError:\n",
    "\tpass"
   ]
  },
  {
   "cell_type": "markdown",
   "metadata": {},
   "source": [
    "## Plot the distribution of ALL likelihoods from ALL runs"
   ]
  },
  {
   "cell_type": "code",
   "execution_count": null,
   "metadata": {},
   "outputs": [],
   "source": [
    "plt.figure(dpi=300)\n",
    "llhs = np.array([x.get_llhs().flatten() for x in grouped_results], dtype=object)\n",
    "print(llhs)\n",
    "\n",
    "#llhs[llhs<-20000] = -7500\n",
    "llh_df = pd.DataFrame()\n",
    "for llh_arr, method in zip(llhs, methods):\n",
    "\ttemp_df = pd.DataFrame()\n",
    "\ttemp_df[method] = llh_arr\n",
    "\tllh_df = pd.concat([llh_df, temp_df])\n",
    "\n",
    "sns.boxplot(llh_df, showfliers=False)\n",
    "plt.xticks(range(len(methods)), [x.abbr for x in grouped_results])\n",
    "plt.xlabel(\"Method\"); plt.ylabel(\"log likelihood\");\n",
    "plt.gca().yaxis.set_major_formatter(\"{x:.4f}\")"
   ]
  },
  {
   "cell_type": "code",
   "execution_count": null,
   "metadata": {},
   "outputs": [],
   "source": [
    "plt.figure(dpi=300)\n",
    "calls = np.array([x.get_fun_calls() for x in grouped_results], dtype=object)\n",
    "\n",
    "call_df = pd.DataFrame()\n",
    "for call_arr, method in zip(calls, methods):\n",
    "\ttemp_df = pd.DataFrame()\n",
    "\ttemp_df[method] = call_arr\n",
    "\tcall_df = pd.concat([call_df, temp_df])\n",
    "\n",
    "sns.boxplot(call_df)\n",
    "plt.xticks(range(len(methods)), [x.abbr for x in grouped_results])\n",
    "plt.xlabel(\"Method\"); plt.ylabel(\"# of Objective Function Calls\");\n",
    "print(f\"MAX NUM FUNC CALLS: {np.max([max(x) for x in calls])}\")"
   ]
  },
  {
   "cell_type": "code",
   "execution_count": null,
   "metadata": {},
   "outputs": [],
   "source": [
    "llh_threshold = -11\n",
    "plt.figure(dpi=300)\n",
    "#grouped_results[0].get_convergence_times(llh_threshold)\n",
    "conv = np.array([x.get_convergence_times(llh_threshold) for x in grouped_results], dtype=object)\n",
    "conv_df = pd.DataFrame()\n",
    "for conv_arr, method in zip(conv, methods):\n",
    "\ttemp_df = pd.DataFrame()\n",
    "\ttemp_df[method] = conv_arr\n",
    "\tconv_df = pd.concat([conv_df, temp_df])\n",
    "\n",
    "sns.swarmplot(conv_df, edgecolor=\"#505050\", linewidth=0.5)\n",
    "plt.xticks(range(len(methods)), [x.abbr for x in grouped_results])\n",
    "plt.xlabel(\"Method\"); \n",
    "plt.ylabel(f\"# Function Evaluations until Convergence\");"
   ]
  }
 ],
 "metadata": {
  "kernelspec": {
   "display_name": "test1",
   "language": "python",
   "name": "python3"
  },
  "language_info": {
   "codemirror_mode": {
    "name": "ipython",
    "version": 3
   },
   "file_extension": ".py",
   "mimetype": "text/x-python",
   "name": "python",
   "nbconvert_exporter": "python",
   "pygments_lexer": "ipython3",
   "version": "3.12.4"
  }
 },
 "nbformat": 4,
 "nbformat_minor": 2
}
