{
 "cells": [
  {
   "cell_type": "markdown",
   "metadata": {},
   "source": [
    "# Compare methods notebook"
   ]
  },
  {
   "cell_type": "code",
   "execution_count": 1,
   "metadata": {},
   "outputs": [],
   "source": [
    "import glob\n",
    "import pickle\n",
    "import numpy as np\n",
    "import pandas as pd\n",
    "import seaborn as sns\n",
    "import matplotlib.pyplot as plt\n",
    "from modelproblem import ModelProblem\n",
    "from result_classes import Result,MethodResults"
   ]
  },
  {
   "cell_type": "code",
   "execution_count": null,
   "metadata": {},
   "outputs": [],
   "source": [
    "prob_name = \"mRNA_self_reg\"\n",
    "methods = [\"smc\", \"pmc\"]\n",
    "\n",
    "mod_prob = ModelProblem(prob_name)\n",
    "mod_prob.initialize()\n",
    "\n",
    "grouped_results = [MethodResults(x) for x in methods]\n",
    "\n",
    "for method, group_obj in zip(methods, grouped_results):\n",
    "\tresult_dir = f\"results/{prob_name}/{method}/\"\n",
    "\tfnames = glob.glob(result_dir + \"*.pkl\")\n",
    "\tfor fname in fnames:\n",
    "\t\t#print(fname)\n",
    "\t\twith open(fname, \"rb\") as f:\n",
    "\t\t\tresults = pickle.load(f)\n",
    "\t\tresult_obj = Result(results)\n",
    "\t\tgroup_obj.add_result(result_obj)\n",
    "print(type(mod_prob.problem))\t\t"
   ]
  },
  {
   "cell_type": "code",
   "execution_count": null,
   "metadata": {},
   "outputs": [],
   "source": [
    "plt.figure(dpi=300)\n",
    "llhs = np.array([x.get_llhs().flatten() for x in grouped_results])\n",
    "#llhs[llhs<-20000] = -7500\n",
    "llh_df = pd.DataFrame(columns=methods, data=llhs.T)\n",
    "sns.boxplot(llh_df, showfliers=True)\n",
    "plt.xticks(range(len(methods)), [x.abbr for x in grouped_results])\n",
    "plt.xlabel(\"Method\"); plt.ylabel(\"log likelihood\");"
   ]
  },
  {
   "cell_type": "code",
   "execution_count": null,
   "metadata": {},
   "outputs": [],
   "source": [
    "fixed_idxs = mod_prob.problem.x_fixed_indices\n",
    "par_names = mod_prob.problem.x_names\n",
    "x=np.array(par_names)\n",
    "mask=np.full(len(par_names),True,dtype=bool)\n",
    "mask[fixed_idxs]=False\n",
    "fit_par_names=x[mask]\n",
    "\n",
    "all_ks_stats=[]\n",
    "\n",
    "ks_df = pd.DataFrame(columns=[\"Param\", \"Method\", \"KS\"])\n",
    "for i, name in enumerate(fit_par_names):\n",
    "\t# assumes all runs have the same model parameters\n",
    "\tfor runs in grouped_results:\n",
    "\t\tks_stats , pvals = runs.calc_pairwise_matrix(par_index=i)\n",
    "\t\tall_ks_stats.append(ks_stats[np.triu_indices(ks_stats.shape[0], k = 1)])\n",
    "\t\tfor run_ks in ks_stats:\n",
    "\t\t\tfor ks_stat in run_ks:\n",
    "\t\t\t\tnew_row = {\"Param\":name, \"Method\":runs.abbr, \"KS\":ks_stat}\n",
    "\t\t\t\tks_df.loc[len(ks_df)] = new_row\n",
    "\n",
    "ks_df = ks_df.drop(ks_df[ks_df[\"KS\"] == 0].index)\n",
    "\n",
    "sns.violinplot(data=ks_df, x=\"Param\", y=\"KS\", hue=\"Method\")"
   ]
  },
  {
   "cell_type": "code",
   "execution_count": null,
   "metadata": {},
   "outputs": [],
   "source": [
    "plt.figure(dpi=300)\n",
    "calls = np.array([x.get_fun_calls() for x in grouped_results])\n",
    "call_df = pd.DataFrame(columns=methods, data=calls.T)\n",
    "sns.violinplot(call_df)\n",
    "plt.xticks(range(len(methods)), [x.abbr for x in grouped_results])\n",
    "plt.xlabel(\"Method\"); plt.ylabel(\"# of Objective Function Calls\");\n",
    "print(f\"MAX NUM FUNC CALLS: {np.max(calls)}\")"
   ]
  },
  {
   "cell_type": "code",
   "execution_count": null,
   "metadata": {},
   "outputs": [],
   "source": [
    "llh_threshold = -670\n",
    "plt.figure(dpi=300)\n",
    "#grouped_results[0].get_convergence_times(llh_threshold)\n",
    "conv = np.array([x.get_convergence_times(llh_threshold) for x in grouped_results])\n",
    "conv_df = pd.DataFrame(columns=methods, data=conv.T)\n",
    "\n",
    "sns.swarmplot(conv_df)\n",
    "plt.xticks(range(len(methods)), [x.abbr for x in grouped_results])\n",
    "plt.xlabel(\"Method\"); \n",
    "plt.ylabel(f\"# Function Evaluations until Convergence\");"
   ]
  },
  {
   "cell_type": "code",
   "execution_count": null,
   "metadata": {},
   "outputs": [],
   "source": []
  }
 ],
 "metadata": {
  "kernelspec": {
   "display_name": "bayes",
   "language": "python",
   "name": "python3"
  },
  "language_info": {
   "codemirror_mode": {
    "name": "ipython",
    "version": 3
   },
   "file_extension": ".py",
   "mimetype": "text/x-python",
   "name": "python",
   "nbconvert_exporter": "python",
   "pygments_lexer": "ipython3",
   "version": "3.12.4"
  }
 },
 "nbformat": 4,
 "nbformat_minor": 2
}
