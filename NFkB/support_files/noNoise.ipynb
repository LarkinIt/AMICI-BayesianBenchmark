{
 "cells": [
  {
   "cell_type": "code",
   "execution_count": 1,
   "metadata": {},
   "outputs": [
    {
     "name": "stdout",
     "output_type": "stream",
     "text": [
      "This machine has 10 CPUs\n"
     ]
    }
   ],
   "source": [
    "import sys \n",
    "sys.path.append(\"./pocomc/\")\n",
    "\n",
    "import os\n",
    "import time\n",
    "import pickle\n",
    "import roadrunner as rr\n",
    "import numpy as np\n",
    "import pandas as pd\n",
    "import seaborn as sns\n",
    "import matplotlib.pyplot as plt\n",
    "\n",
    "from scipy.stats import qmc\n",
    "from multiprocessing import Pool\n",
    "\n",
    "import pocomc as pc\n",
    "\n",
    "\n",
    "SEED = 1\n",
    "np.random.seed(seed=SEED)\n",
    "\n",
    "n_cpus = os.cpu_count() \n",
    "print('This machine has {} CPUs'.format(n_cpus))"
   ]
  },
  {
   "cell_type": "code",
   "execution_count": 2,
   "metadata": {},
   "outputs": [],
   "source": [
    "# Model class used to define functions \n",
    "class Model:\n",
    "\n",
    "    def __init__(self, opts): #initial settings\n",
    "        for key in opts: #loops for all labels in the list 'key'\n",
    "            setattr(self, key, opts[key]) #creates a dictionary where 'key' are the list of labels & 'ops[key]' are the values\n",
    "        # Default model output to times and experimental observables\n",
    "        self.observables= list(self.data.columns)[1:] # makes a list of the columns of data (not including 1st column)\n",
    "        self.defaultOutput= ['time'] + self.observables # makes a list with time and data from self.observables\n",
    "        self.n_params= len(self.params) # sets n_params as the number of elements in self.params\n",
    "        self.n_obs= len(self.observables) # sets n_obs as the number of cols of data drom self.observables\n",
    "\n",
    "    # __call__ lets you turn instance of class into callable object \n",
    "    def __call__(self, theta_new): # takes parameter theta_new and self referring to instance of the class\n",
    "        theta_new = theta_new # why do we have to do this\n",
    "        res = self.log_likelihood(theta_new) # res is the log likelihood of the parameter theta_new\n",
    "        return res # returns the log likelihood \n",
    "    \n",
    "    def run(self, params=None, x0=None, times=None, output=None): # executes simulation with 4 optional parameters (since =None)\n",
    "        rr = self.rr # sets up integrator\n",
    "        rr.reset() # resets integrator each time its called \n",
    "        rr.integrator.absolute_tolerance = 1e-12 \n",
    "        rr.integrator.relative_tolerance = 1e-12\n",
    "        addZero=False # initializes addZero object to false \n",
    "\n",
    "        # checks for function parameters, if not, sets them to specific values stored in class \n",
    "        # Use timepoints of data as default times at which to get sim output\n",
    "        if params is None:\n",
    "            params= self.p_true # name of parameters from bngl\n",
    "        if x0 is None:\n",
    "            x0= self.x0 # initial conditions \n",
    "        if times is None:\n",
    "            times= list(self.data['time'].values) # times \n",
    "        # make sure zero is first time point\n",
    "        if (times[0]>0.0):\n",
    "            addZero= True\n",
    "            times= [0] + times # adds a 0 if it doesnt start from 0\n",
    "\n",
    "        # Set default output are the column names of the data\n",
    "        if output is None: # checks if there is a defined output\n",
    "            output= self.defaultOutput\n",
    "       \n",
    "        # Set parameter values\n",
    "        for name, value in zip(self.params, params):\n",
    "            rr[name] = float(value) # sets parameters in integrator, rr\n",
    "        #rr.reset() # force update of parameter expression (POSSIBLY NOT NEEDED)\n",
    "\n",
    "        # NOTE: If you want to vary the initial conditions, do this by defining a parameter in the model that sets the initial concentration of species and then include this parameter in your list of parameters to fit. \n",
    "\n",
    "        # Run trajectories\n",
    "        try:\n",
    "            traj = rr.simulate(times=times,selections=output) # rr.simulate runs the simulation\n",
    "        except:\n",
    "            # If integration fails return empty array\n",
    "            return([])\n",
    "\n",
    "        if (addZero):\n",
    "            # Return traj with zero timepoint removed\n",
    "            return(traj[1:,:])\n",
    "        else:\n",
    "            return(traj) # returns trajectories from simulation\n",
    "        \n",
    "    # cals the log of prior probability of parameters in theta_new\n",
    "    def log_prior(self, theta_new): \n",
    "        # creates list of boolean values to state if theta_new is within bounds \n",
    "        bools = [(low <= i <= high) for i,low,high in zip(theta_new, self.lower_bnds, self.upper_bnds)] #if generated values are within bounds\n",
    "        all_in_range = np.all(bools) #if all values are true, then output is true\n",
    "        if all_in_range: \n",
    "            return 0.0 \n",
    "        return -np.inf #if even one parameter out of bounds, it's false, and returns -infinity\n",
    "\n",
    "    # calcs log likelihood of observed data given params \n",
    "    def log_likelihood(self, theta_new): #how good is this candidate parameter fitting my data (maximize it)\n",
    "        params = theta_new[:self.n_params] # gets parameter values \n",
    "        if self.fit_x0: \n",
    "            x0 = theta_new[self.n_params:(self.n_params + len(self.x_0))] #sets x0 to 'theta_true' x0 values\n",
    "        else:\n",
    "            x0 = self.x0\n",
    "        # runs simulation with initial conditions and parameters \n",
    "        y = self.run(params=params, x0=x0)[:,1:] #sets y to the y results of solving ODE\n",
    "        # y is the predictions \n",
    "        if (len(y)==0): # if simulaation fails \n",
    "            # return large (but not infinite value) if integration fails\n",
    "            return(-1e11) # shows that really not likely \n",
    "        if (np.any(np.isnan(y))):\n",
    "            return(-1e12)\n",
    "\n",
    "        if self.fit_sigma: # sigma is standard deviation of each observable \n",
    "            sigma = theta_new[-len(self.observables):] #observable index related to sigma\n",
    "        else:\n",
    "            sigma = [1] * len(self.observables) #makes all sigmas default to 1 meaning equal confidence \n",
    "\n",
    "        obs = self.data.values[:,1:] #sets data\n",
    "\n",
    "        # Calculate likelihood, sum of squared differences, normalized by sigma \n",
    "        #term1 = 0 #-0.5 * np.log(2*np.pi*np.square(sigma))\n",
    "        #term2 = sum (y-obsnp.square(np.subtract(y, obs)) / (2*np.square(sigma))\n",
    "        #logLH = np.sum(term1 - term2)\n",
    "        ll= -sum(((y-obs)/(sigma))**2)# chi^2\n",
    "        return(ll[0]) # returns summed log "
   ]
  },
  {
   "cell_type": "code",
   "execution_count": 3,
   "metadata": {},
   "outputs": [],
   "source": [
    "mod_opts = {} \n",
    "# load data for model\n",
    "mod_df = pd.read_csv('NFkB_sim_data.csv', header=0, delimiter=\",\") #reads in data file\n",
    "mod_opts['data'] = mod_df\n",
    "# Load in SBML model using libroadrunner\n",
    "sbml_file = \"myImplemt.xml\"\n",
    "mod_opts['rr'] = rr.RoadRunner(sbml_file)\n",
    "mod_opts['params'] = [\"LOG_k_b\", \"LOG_k_f\", \"LOG_k_a\", \"LOG_k_4\", \"LOG_k_i1\", \"LOG_k_e1\", \"LOG_k_t2a\", \"LOG_k_t1a\", \"LOG_k_i2\", \"LOG_k_e2\", \"LOG_k_e2a\", \"LOG_c_4a\", \"LOG_c_5a\", \"LOG_c_1a\", \"LOG_k_a1a\", \"LOG_k_d1a\", \"LOG_c_3\", \"LOG_c_1\", \"LOG_k_ikk\", \"LOG_k_tnfr\", \"LOG_TNFRin\", \"LOG_IKKin\", \"LOG_boundc\"] # names of parameters in order from bngl file \n",
    "\n",
    "# trying to only do some params \n",
    "# mod_opts['params'] = [\"LOG_k_b\", \"LOG_k_f\", \"LOG_k_a\", \"LOG_k_4\"] # names of parameters in order from bngl file \n",
    "\n",
    "# mod_opts[\"species\"] = [\"TNF\", \"TNFRi\", \"TNFRa\", \"IKKi\", \"IKKa\", \"cNFKB\", \"nNFKB\", \"cIkB\", \"nIkB\", \"cNFkB_IkB\", \"nNFkB_IkB\", \"A20\"] # names of observables in order from bngl file, also in smbl under \"dependent variables / observables\"\n",
    "mod_opts[\"species\"] = [\"S1\", \"S2\", \"S3\", \"S4\", \"S5\", \"S6\", \"S7\", \"S8\", \"S9\", \"S10\", \"S11\", \"S12\"]\n",
    "mod_opts['x0'] = [0,2.5258,0,4.7454,0,0,0,0,0,6.5546,0,0] # initial conditions (if given)\n",
    "\n",
    "# ! TO DO: we currently assume it fit_x0, then ALL species initial conditions are fit\n",
    "mod_opts['fit_x0'] = False # fit initial conditions?\n",
    "mod_opts['fit_sigma'] = False #fit sigma?\n",
    "mod_opts['p_true'] = [0.0352,-3.0688,-4.5164,-7.4173,-2.057,-5.9334,-8,-7.3178,-4.1089,-10.6289,-3.5859,-4.6363,-4.6,-3.2082,-7,-8,-20,-20,-20,-20] #guess param values(in log)\n",
    "# mod_opts['lower_bnds'] = [-30,-30,-30,-30,-30,-30,-30,-30,-30,-30,-30,-30,-30,-30,-30,-30,-30,-30,-30,-30,-30,-30,-30] #lower bounds(in log)\n",
    "# mod_opts['upper_bnds'] = [10,10,10,10,10,10,10,10,10,10,10,10,10,10,10,10,10,10,10,10,10,10,10] #upper bounds(in log)\n",
    "\n",
    "# use these ones \n",
    "# mod_opts['lower_bnds'] = [-5,-5,-5,-10,-5,-10,-10,-10,-10,-20,-10,-10,-10,-10,-10,-10,-30,-30,-30,-30,-10,-10,-10] #lower bounds(in log)\n",
    "# mod_opts['upper_bnds'] = [5,5,5,5,5,5,5,5,5,5,5,5,5,5,5,5,5,5,5,5,5,10,10] #upper bounds(in log)\n",
    "\n",
    "mod_opts['lower_bnds'] = [-0.4648,-3.5688,-5.0164,-7.9173,-2.557,-6.4334,-8.5,-7.8178,-4.6089,-11.1289,-4.0859,-5.1363,-5.1,-3.7082,-7.5,-8.5,-20.5,-20.5,-20.5,-20.5] #lower bounds(in log)\n",
    "mod_opts['upper_bnds'] = [0.5352,-2.5688,-4.0164,-6.9173,-2.057,-5.4334,-7.5,-6.8178,-3.6089,-10.1289,-3.08759,-4.1363,-4.1,-2.7082,-6.5,-7.5,-19.5,-19.5,-19.5,-19.5] #upper bounds(in log)\n",
    "\n",
    "mod_opts['lower_bnds'] = np.array(mod_opts['lower_bnds']).astype(float)\n",
    "mod_opts['upper_bnds'] = np.array(mod_opts['upper_bnds']).astype(float)\n",
    "\n",
    "\n",
    "model = Model(mod_opts)"
   ]
  },
  {
   "cell_type": "code",
   "execution_count": 4,
   "metadata": {},
   "outputs": [
    {
     "name": "stdout",
     "output_type": "stream",
     "text": [
      "[  0.  -4.  -5.  -8.  -3.  -6.  -9.  -8.  -5. -11.  -4.  -5.  -5.  -4.\n",
      "  -8.  -9. -21. -21. -21. -21.   2.   4.   6.]\n",
      "<class 'numpy.ndarray'>\n",
      "[  1.  -1.  -3.  -6.  -1.  -4.  -7.  -5.  -3.  -9.  -3.  -3.  -3.  -2.\n",
      "  -6.  -7. -19. -19. -19. -19.   3.   5.   7.]\n",
      "<class 'numpy.ndarray'>\n"
     ]
    }
   ],
   "source": [
    "print(mod_opts['lower_bnds'])\n",
    "print(type(mod_opts['lower_bnds']))\n",
    "\n",
    "print(mod_opts['upper_bnds'])\n",
    "print(type(mod_opts['upper_bnds']))"
   ]
  },
  {
   "cell_type": "code",
   "execution_count": 5,
   "metadata": {},
   "outputs": [],
   "source": [
    "# [0.0352,-3.0688,-4.5164,-7.4173,-2.057,-5.9334,-8,-7.3178,-4.1089,-10.6289,-3.5859,-4.6363,-4.6,-3.2082,-7,-8,-20,-20,-20,-20,2.5258,4.7454,6.5546] "
   ]
  },
  {
   "cell_type": "code",
   "execution_count": 6,
   "metadata": {},
   "outputs": [],
   "source": [
    "# function to plot model fit \n",
    "def plot_fit(p):\n",
    "    # simulates model with parameters over specific time frame\n",
    "    ## traj has time and conentration \n",
    "    traj= model.run(params=p,times=np.linspace(0,300,101))\n",
    "    # plots experimental data \n",
    "    plt.plot(model.data['time'].values,model.data['nNFkB'].values,'go',label='data')\n",
    "    # plots model fit \n",
    "    plt.plot(traj[:,0],traj[:,1],'g-',label='fit')\n",
    "    # log likelihood to calc cost of the fit \n",
    "    cost= model.log_likelihood(p)\n",
    "    plt.title(f'Fit for $\\chi^2=${-cost:0.2e}')\n",
    "    _=plt.legend()"
   ]
  },
  {
   "cell_type": "code",
   "execution_count": 7,
   "metadata": {},
   "outputs": [
    {
     "name": "stdout",
     "output_type": "stream",
     "text": [
      "TNF initial concentration: 0.6989700043360189\n",
      "TNFRi initial concentration: 2.52580000394291\n",
      "TNFRa initial concentration: -inf\n",
      "IKKi initial concentration: 4.745400000099128\n",
      "IKKa initial concentration: -inf\n",
      "NFkBc initial concentration: -inf\n",
      "NFkBn initial concentration: -inf\n",
      "IkBc initial concentration: -inf\n",
      "IkBn initial concentration: -inf\n",
      "nNFkBIkBc initial concentration: 6.554600003006979\n",
      "nNFkBIkBn initial concentration: -inf\n",
      "A20 initial concentration: -inf\n"
     ]
    },
    {
     "name": "stderr",
     "output_type": "stream",
     "text": [
      "/var/folders/jy/c63ddq7x061bb11h5xt4r2jr0000gn/T/ipykernel_72701/2467364202.py:5: RuntimeWarning: divide by zero encountered in log10\n",
      "  print(\"TNFRa initial concentration:\", np.log10(model.rr['init(S3)']))\n",
      "/var/folders/jy/c63ddq7x061bb11h5xt4r2jr0000gn/T/ipykernel_72701/2467364202.py:7: RuntimeWarning: divide by zero encountered in log10\n",
      "  print(\"IKKa initial concentration:\", np.log10(model.rr['init(S5)']))\n",
      "/var/folders/jy/c63ddq7x061bb11h5xt4r2jr0000gn/T/ipykernel_72701/2467364202.py:8: RuntimeWarning: divide by zero encountered in log10\n",
      "  print(\"NFkBc initial concentration:\", np.log10(model.rr['init(S6)']))\n",
      "/var/folders/jy/c63ddq7x061bb11h5xt4r2jr0000gn/T/ipykernel_72701/2467364202.py:9: RuntimeWarning: divide by zero encountered in log10\n",
      "  print(\"NFkBn initial concentration:\", np.log10(model.rr['init(S7)']))\n",
      "/var/folders/jy/c63ddq7x061bb11h5xt4r2jr0000gn/T/ipykernel_72701/2467364202.py:10: RuntimeWarning: divide by zero encountered in log10\n",
      "  print(\"IkBc initial concentration:\", np.log10(model.rr['init(S8)']))\n",
      "/var/folders/jy/c63ddq7x061bb11h5xt4r2jr0000gn/T/ipykernel_72701/2467364202.py:11: RuntimeWarning: divide by zero encountered in log10\n",
      "  print(\"IkBn initial concentration:\", np.log10(model.rr['init(S9)']))\n",
      "/var/folders/jy/c63ddq7x061bb11h5xt4r2jr0000gn/T/ipykernel_72701/2467364202.py:13: RuntimeWarning: divide by zero encountered in log10\n",
      "  print(\"nNFkBIkBn initial concentration:\", np.log10(model.rr['init(S11)']))\n",
      "/var/folders/jy/c63ddq7x061bb11h5xt4r2jr0000gn/T/ipykernel_72701/2467364202.py:14: RuntimeWarning: divide by zero encountered in log10\n",
      "  print(\"A20 initial concentration:\", np.log10(model.rr['init(S12)']))\n"
     ]
    }
   ],
   "source": [
    "model.rr['LOG_k_b']=0 # sets parameters value to 0\n",
    "model.rr.reset() # resets model to initial conditions \n",
    "print(\"TNF initial concentration:\", np.log10(model.rr['init(S1)']))\n",
    "print(\"TNFRi initial concentration:\", np.log10(model.rr['init(S2)']))\n",
    "print(\"TNFRa initial concentration:\", np.log10(model.rr['init(S3)']))\n",
    "print(\"IKKi initial concentration:\", np.log10(model.rr['init(S4)']))\n",
    "print(\"IKKa initial concentration:\", np.log10(model.rr['init(S5)']))\n",
    "print(\"NFkBc initial concentration:\", np.log10(model.rr['init(S6)']))\n",
    "print(\"NFkBn initial concentration:\", np.log10(model.rr['init(S7)']))\n",
    "print(\"IkBc initial concentration:\", np.log10(model.rr['init(S8)']))\n",
    "print(\"IkBn initial concentration:\", np.log10(model.rr['init(S9)']))\n",
    "print(\"nNFkBIkBc initial concentration:\", np.log10(model.rr['init(S10)']))\n",
    "print(\"nNFkBIkBn initial concentration:\", np.log10(model.rr['init(S11)']))\n",
    "print(\"A20 initial concentration:\", np.log10(model.rr['init(S12)']))\n"
   ]
  },
  {
   "cell_type": "code",
   "execution_count": 8,
   "metadata": {},
   "outputs": [
    {
     "name": "stdout",
     "output_type": "stream",
     "text": [
      "0.0\n"
     ]
    },
    {
     "data": {
      "text/plain": [
       "Text(0.5, 1.0, 'nNFkB Concentration')"
      ]
     },
     "execution_count": 8,
     "metadata": {},
     "output_type": "execute_result"
    },
    {
     "data": {
      "image/png": "[encoded data removed]",
      "text/plain": [
       "<Figure size 640x480 with 1 Axes>"
      ]
     },
     "metadata": {},
     "output_type": "display_data"
    }
   ],
   "source": [
    "# runs model with given set of parameters, this can be changed []\n",
    "# traj is array: rows are time, cols are concentraation\n",
    "traj= model.run(params=model.p_true,times=np.linspace(0,300,301))\n",
    "plt.plot(traj[:,0],traj[:,1]) # plots first observable (2nd col of traj) against time \n",
    "print(traj[0,1]) # prints initial condition of the first observable  \n",
    "plt.title(\"nNFkB Concentration\")"
   ]
  },
  {
   "cell_type": "code",
   "execution_count": 9,
   "metadata": {},
   "outputs": [],
   "source": [
    "# # runs model with given set of parameters, this can be changed []\n",
    "# # traj is array: rows are time, cols are concentraation\n",
    "# traj= model.run(params=model.p_true,times=np.linspace(0,300,301))\n",
    "# plt.plot(traj[:,0],traj[:,1]) # plots first observable (2nd col of traj) against time \n",
    "# print(traj[0,1]) # prints initial condition of the first observable  \n",
    "# plt.title(\"nNFkB Concentration\")"
   ]
  },
  {
   "cell_type": "code",
   "execution_count": 10,
   "metadata": {},
   "outputs": [
    {
     "data": {
      "text/plain": [
       "Text(0.5, 1.0, 'nNFkB Concentration')"
      ]
     },
     "execution_count": 10,
     "metadata": {},
     "output_type": "execute_result"
    },
    {
     "data": {
      "image/png": "[encoded data removed]",
      "text/plain": [
       "<Figure size 640x480 with 1 Axes>"
      ]
     },
     "metadata": {},
     "output_type": "display_data"
    }
   ],
   "source": [
    "traj= model.run(params=model.p_true,output=list(model.data.columns))\n",
    "plt.plot(model.data['time'].values,model.data['nNFkB'].values,'go',label='data')\n",
    "plt.plot(traj[:,0],traj[:,1],'g-',label='fit')\n",
    "_=plt.legend()\n",
    "plt.title(\"nNFkB Concentration\")"
   ]
  },
  {
   "cell_type": "code",
   "execution_count": 11,
   "metadata": {},
   "outputs": [],
   "source": [
    "# traj= model.run(params=model.p_true,output=list(model.data.columns))\n",
    "# plt.plot(model.data['time'].values,model.data['nNFkB'].values,'go',label='data')\n",
    "# plt.plot(traj[:,0],traj[:,1],'g-',label='fit')\n",
    "# _=plt.legend()\n",
    "# plt.title(\"nNFkB Concentration\")"
   ]
  },
  {
   "cell_type": "code",
   "execution_count": 12,
   "metadata": {},
   "outputs": [],
   "source": [
    "# function to plot model fit \n",
    "def plot_fit(p):\n",
    "    # simulates model with parameters over specific time frame\n",
    "    ## traj has time and conentration \n",
    "    traj= model.run(params=p,times=np.linspace(0,300,301))\n",
    "    # plots experimental data \n",
    "    plt.plot(model.data['time'].values,model.data['nNFkB'].values,'go',label='data')\n",
    "    # plots model fit \n",
    "    plt.plot(traj[:,0],traj[:,1],'g-',label='fit')\n",
    "    # log likelihood to calc cost of the fit \n",
    "    cost= model.log_likelihood(p)\n",
    "    plt.title(f'Fit for $\\chi^2=${-cost:0.2e}')\n",
    "    _=plt.legend()"
   ]
  },
  {
   "cell_type": "code",
   "execution_count": 13,
   "metadata": {},
   "outputs": [
    {
     "name": "stdout",
     "output_type": "stream",
     "text": [
      "       message: Optimization terminated successfully.\n",
      "       success: True\n",
      "        status: 0\n",
      "           fun: 3.8550705301429624e-14\n",
      "             x: [ 3.520e-02 -3.069e+00 ...  4.768e+00  6.585e+00]\n",
      "           nit: 620\n",
      "          nfev: 1402\n",
      " final_simplex: (array([[ 3.520e-02, -3.069e+00, ...,  4.768e+00,\n",
      "                         6.585e+00],\n",
      "                       [ 3.520e-02, -3.069e+00, ...,  4.768e+00,\n",
      "                         6.585e+00],\n",
      "                       ...,\n",
      "                       [ 3.520e-02, -3.069e+00, ...,  4.768e+00,\n",
      "                         6.585e+00],\n",
      "                       [ 3.520e-02, -3.069e+00, ...,  4.768e+00,\n",
      "                         6.585e+00]]), array([ 3.855e-14,  3.986e-14, ...,  1.397e-13,  1.405e-13]))\n"
     ]
    }
   ],
   "source": [
    "# use to find best param values (minimizes chi-square)\n",
    "from scipy.optimize import minimize, fsolve\n",
    "# \n",
    "chisq= lambda p: -model.log_likelihood(p)\n",
    "# x0 is guess for params \n",
    "bf = minimize(chisq, x0=[0.0352,-3.0688,-4.5164,-7.4173,-2.057,-5.9334,-8,-7.3178,-4.1089,-10.6289,-3.5859,-4.6363,-4.6,-3.2082,-7,-8,-20,-20,-20,-20,2.5258,4.7454,6.5546], method='nelder-mead',options={'maxiter':1000})\n",
    "print(bf)"
   ]
  },
  {
   "cell_type": "code",
   "execution_count": 14,
   "metadata": {},
   "outputs": [
    {
     "data": {
      "image/png": "[encoded data removed]",
      "text/plain": [
       "<Figure size 640x480 with 1 Axes>"
      ]
     },
     "metadata": {},
     "output_type": "display_data"
    }
   ],
   "source": [
    "plot_fit(bf.x)"
   ]
  },
  {
   "cell_type": "code",
   "execution_count": 15,
   "metadata": {},
   "outputs": [
    {
     "name": "stdout",
     "output_type": "stream",
     "text": [
      "The discrepancy of the sampling (i.e., sample quality): 0.1433\n",
      "(1000, 23)\n"
     ]
    }
   ],
   "source": [
    "n_particles = 1000\n",
    "# Initialise particles' positions using samples from the prior \n",
    "sampler = qmc.LatinHypercube(d=model.n_params, seed=SEED)\n",
    "sample = sampler.random(n=n_particles) \n",
    "print(\"The discrepancy of the sampling (i.e., sample quality): %.4f\"%qmc.discrepancy(sample)) #discrepancy is distance between cont. uniform distr. on hypercube & discr. uniform distr. on n distinct sample points\n",
    "prior_samples = qmc.scale(sample, l_bounds=model.lower_bnds, u_bounds=model.upper_bnds)\n",
    "print(prior_samples.shape)"
   ]
  },
  {
   "cell_type": "code",
   "execution_count": 16,
   "metadata": {},
   "outputs": [
    {
     "name": "stderr",
     "output_type": "stream",
     "text": [
      "Iter: 64it [48:59, 91.20s/it, beta=2.29e-6, calls=1292945, ESS=0.951, logZ=-18.2, accept=0.218, N=19, scale=0.535, corr=0.884]/Users/anamariemartinez/anaconda3/envs/bayes/lib/python3.9/site-packages/numpy/linalg/linalg.py:2120: RuntimeWarning: overflow encountered in slogdet\n",
      "  sign, logdet = _umath_linalg.slogdet(a, signature=signature)\n",
      "/Users/anamariemartinez/anaconda3/envs/bayes/lib/python3.9/site-packages/numpy/linalg/linalg.py:2120: RuntimeWarning: invalid value encountered in slogdet\n",
      "  sign, logdet = _umath_linalg.slogdet(a, signature=signature)\n",
      "Iter: 118it [11:20:16, 515.45s/it, beta=0.02, calls=1.11e+7, ESS=0.951, logZ=-38.7, accept=0.238, N=230, scale=0.0427, corr=0.99]     "
     ]
    },
    {
     "ename": "AttributeError",
     "evalue": "'float' object has no attribute 'item'",
     "output_type": "error",
     "traceback": [
      "\u001b[0;31m---------------------------------------------------------------------------\u001b[0m",
      "\u001b[0;31mAttributeError\u001b[0m                            Traceback (most recent call last)",
      "Cell \u001b[0;32mIn[16], line 15\u001b[0m\n\u001b[1;32m      2\u001b[0m \u001b[38;5;66;03m# with Pool(n_cpus) as pool: #sets up code to run over my n number of cpus on laptop\u001b[39;00m\n\u001b[1;32m      4\u001b[0m sampler \u001b[38;5;241m=\u001b[39m pc\u001b[38;5;241m.\u001b[39mSampler(n_particles \u001b[38;5;241m=\u001b[39m n_particles,\n\u001b[1;32m      5\u001b[0m                 n_dim \u001b[38;5;241m=\u001b[39m model\u001b[38;5;241m.\u001b[39mn_params,\n\u001b[1;32m      6\u001b[0m                 log_likelihood \u001b[38;5;241m=\u001b[39m model\u001b[38;5;241m.\u001b[39mlog_likelihood,\n\u001b[0;32m   (...)\u001b[0m\n\u001b[1;32m     12\u001b[0m                 infer_vectorization\u001b[38;5;241m=\u001b[39m\u001b[38;5;28;01mFalse\u001b[39;00m\n\u001b[1;32m     13\u001b[0m             ) \u001b[38;5;66;03m#stores all relevant info from # of parameters being fit (ndim) to the actual results\u001b[39;00m\n\u001b[0;32m---> 15\u001b[0m \u001b[43msampler\u001b[49m\u001b[38;5;241;43m.\u001b[39;49m\u001b[43mrun\u001b[49m\u001b[43m(\u001b[49m\u001b[43mprior_samples\u001b[49m\u001b[43m \u001b[49m\u001b[38;5;241;43m=\u001b[39;49m\u001b[43m \u001b[49m\u001b[43mprior_samples\u001b[49m\u001b[43m)\u001b[49m \u001b[38;5;66;03m#starts with prior sample definied in latin hypercube sampling, and runs it\u001b[39;00m\n\u001b[1;32m     16\u001b[0m result \u001b[38;5;241m=\u001b[39m sampler\u001b[38;5;241m.\u001b[39mresults \u001b[38;5;66;03m#results of sampler.run on prior_samples\u001b[39;00m\n\u001b[1;32m     18\u001b[0m \u001b[38;5;28;01mwith\u001b[39;00m \u001b[38;5;28mopen\u001b[39m(\u001b[38;5;124m'\u001b[39m\u001b[38;5;124mtester01_result.pkl\u001b[39m\u001b[38;5;124m'\u001b[39m, \u001b[38;5;124m'\u001b[39m\u001b[38;5;124mwb\u001b[39m\u001b[38;5;124m'\u001b[39m) \u001b[38;5;28;01mas\u001b[39;00m f: \u001b[38;5;66;03m#open that file if exists, if not make that file\u001b[39;00m\n",
      "File \u001b[0;32m~/anaconda3/envs/bayes/lib/python3.9/site-packages/pocomc/sampler.py:406\u001b[0m, in \u001b[0;36mSampler.run\u001b[0;34m(self, prior_samples, ess, gamma, n_min, n_max, progress, resume_state_path, save_every)\u001b[0m\n\u001b[1;32m    397\u001b[0m \u001b[38;5;28mself\u001b[39m\u001b[38;5;241m.\u001b[39mu, \u001b[38;5;28mself\u001b[39m\u001b[38;5;241m.\u001b[39mx, \u001b[38;5;28mself\u001b[39m\u001b[38;5;241m.\u001b[39mJ, \u001b[38;5;28mself\u001b[39m\u001b[38;5;241m.\u001b[39mL, \u001b[38;5;28mself\u001b[39m\u001b[38;5;241m.\u001b[39mP \u001b[38;5;241m=\u001b[39m \u001b[38;5;28mself\u001b[39m\u001b[38;5;241m.\u001b[39m_resample(\n\u001b[1;32m    398\u001b[0m     \u001b[38;5;28mself\u001b[39m\u001b[38;5;241m.\u001b[39mu,\n\u001b[1;32m    399\u001b[0m     \u001b[38;5;28mself\u001b[39m\u001b[38;5;241m.\u001b[39mx,\n\u001b[0;32m   (...)\u001b[0m\n\u001b[1;32m    402\u001b[0m     \u001b[38;5;28mself\u001b[39m\u001b[38;5;241m.\u001b[39mP\n\u001b[1;32m    403\u001b[0m )\n\u001b[1;32m    405\u001b[0m \u001b[38;5;66;03m# Evolve particles using MCMC\u001b[39;00m\n\u001b[0;32m--> 406\u001b[0m \u001b[38;5;28mself\u001b[39m\u001b[38;5;241m.\u001b[39mu, \u001b[38;5;28mself\u001b[39m\u001b[38;5;241m.\u001b[39mx, \u001b[38;5;28mself\u001b[39m\u001b[38;5;241m.\u001b[39mJ, \u001b[38;5;28mself\u001b[39m\u001b[38;5;241m.\u001b[39mL, \u001b[38;5;28mself\u001b[39m\u001b[38;5;241m.\u001b[39mP \u001b[38;5;241m=\u001b[39m \u001b[38;5;28;43mself\u001b[39;49m\u001b[38;5;241;43m.\u001b[39;49m\u001b[43m_mutate\u001b[49m\u001b[43m(\u001b[49m\n\u001b[1;32m    407\u001b[0m \u001b[43m    \u001b[49m\u001b[38;5;28;43mself\u001b[39;49m\u001b[38;5;241;43m.\u001b[39;49m\u001b[43mu\u001b[49m\u001b[43m,\u001b[49m\n\u001b[1;32m    408\u001b[0m \u001b[43m    \u001b[49m\u001b[38;5;28;43mself\u001b[39;49m\u001b[38;5;241;43m.\u001b[39;49m\u001b[43mx\u001b[49m\u001b[43m,\u001b[49m\n\u001b[1;32m    409\u001b[0m \u001b[43m    \u001b[49m\u001b[38;5;28;43mself\u001b[39;49m\u001b[38;5;241;43m.\u001b[39;49m\u001b[43mJ\u001b[49m\u001b[43m,\u001b[49m\n\u001b[1;32m    410\u001b[0m \u001b[43m    \u001b[49m\u001b[38;5;28;43mself\u001b[39;49m\u001b[38;5;241;43m.\u001b[39;49m\u001b[43mL\u001b[49m\u001b[43m,\u001b[49m\n\u001b[1;32m    411\u001b[0m \u001b[43m    \u001b[49m\u001b[38;5;28;43mself\u001b[39;49m\u001b[38;5;241;43m.\u001b[39;49m\u001b[43mP\u001b[49m\n\u001b[1;32m    412\u001b[0m \u001b[43m\u001b[49m\u001b[43m)\u001b[49m\n\u001b[1;32m    414\u001b[0m \u001b[38;5;66;03m# Rescale parameters\u001b[39;00m\n\u001b[1;32m    415\u001b[0m \u001b[38;5;28;01mif\u001b[39;00m \u001b[38;5;28mself\u001b[39m\u001b[38;5;241m.\u001b[39mrescale:\n",
      "File \u001b[0;32m~/anaconda3/envs/bayes/lib/python3.9/site-packages/pocomc/sampler.py:533\u001b[0m, in \u001b[0;36mSampler._mutate\u001b[0;34m(self, u, x, J, L, P)\u001b[0m\n\u001b[1;32m    524\u001b[0m option_dict \u001b[38;5;241m=\u001b[39m \u001b[38;5;28mdict\u001b[39m(\n\u001b[1;32m    525\u001b[0m     nmin\u001b[38;5;241m=\u001b[39m\u001b[38;5;28mself\u001b[39m\u001b[38;5;241m.\u001b[39mn_min,\n\u001b[1;32m    526\u001b[0m     nmax\u001b[38;5;241m=\u001b[39m\u001b[38;5;28mself\u001b[39m\u001b[38;5;241m.\u001b[39mn_max,\n\u001b[0;32m   (...)\u001b[0m\n\u001b[1;32m    529\u001b[0m     progress_bar\u001b[38;5;241m=\u001b[39m\u001b[38;5;28mself\u001b[39m\u001b[38;5;241m.\u001b[39mpbar\n\u001b[1;32m    530\u001b[0m )\n\u001b[1;32m    532\u001b[0m \u001b[38;5;28;01mif\u001b[39;00m \u001b[38;5;28mself\u001b[39m\u001b[38;5;241m.\u001b[39muse_flow:\n\u001b[0;32m--> 533\u001b[0m     results \u001b[38;5;241m=\u001b[39m \u001b[43mpreconditioned_metropolis\u001b[49m\u001b[43m(\u001b[49m\n\u001b[1;32m    534\u001b[0m \u001b[43m        \u001b[49m\u001b[43mstate_dict\u001b[49m\u001b[43m,\u001b[49m\n\u001b[1;32m    535\u001b[0m \u001b[43m        \u001b[49m\u001b[43mfunction_dict\u001b[49m\u001b[43m,\u001b[49m\n\u001b[1;32m    536\u001b[0m \u001b[43m        \u001b[49m\u001b[43moption_dict\u001b[49m\n\u001b[1;32m    537\u001b[0m \u001b[43m    \u001b[49m\u001b[43m)\u001b[49m\n\u001b[1;32m    538\u001b[0m \u001b[38;5;28;01melse\u001b[39;00m:\n\u001b[1;32m    539\u001b[0m     results \u001b[38;5;241m=\u001b[39m metropolis(\n\u001b[1;32m    540\u001b[0m         state_dict,\n\u001b[1;32m    541\u001b[0m         function_dict,\n\u001b[1;32m    542\u001b[0m         option_dict\n\u001b[1;32m    543\u001b[0m     )\n",
      "File \u001b[0;32m~/anaconda3/envs/bayes/lib/python3.9/site-packages/torch/utils/_contextlib.py:115\u001b[0m, in \u001b[0;36mcontext_decorator.<locals>.decorate_context\u001b[0;34m(*args, **kwargs)\u001b[0m\n\u001b[1;32m    112\u001b[0m \u001b[38;5;129m@functools\u001b[39m\u001b[38;5;241m.\u001b[39mwraps(func)\n\u001b[1;32m    113\u001b[0m \u001b[38;5;28;01mdef\u001b[39;00m \u001b[38;5;21mdecorate_context\u001b[39m(\u001b[38;5;241m*\u001b[39margs, \u001b[38;5;241m*\u001b[39m\u001b[38;5;241m*\u001b[39mkwargs):\n\u001b[1;32m    114\u001b[0m     \u001b[38;5;28;01mwith\u001b[39;00m ctx_factory():\n\u001b[0;32m--> 115\u001b[0m         \u001b[38;5;28;01mreturn\u001b[39;00m \u001b[43mfunc\u001b[49m\u001b[43m(\u001b[49m\u001b[38;5;241;43m*\u001b[39;49m\u001b[43margs\u001b[49m\u001b[43m,\u001b[49m\u001b[43m \u001b[49m\u001b[38;5;241;43m*\u001b[39;49m\u001b[38;5;241;43m*\u001b[39;49m\u001b[43mkwargs\u001b[49m\u001b[43m)\u001b[49m\n",
      "File \u001b[0;32m~/anaconda3/envs/bayes/lib/python3.9/site-packages/pocomc/mcmc.py:167\u001b[0m, in \u001b[0;36mpreconditioned_metropolis\u001b[0;34m(state_dict, function_dict, option_dict)\u001b[0m\n\u001b[1;32m    160\u001b[0m \u001b[38;5;66;03m# Update progress bar if available\u001b[39;00m\n\u001b[1;32m    161\u001b[0m \u001b[38;5;28;01mif\u001b[39;00m progress_bar \u001b[38;5;129;01mis\u001b[39;00m \u001b[38;5;129;01mnot\u001b[39;00m \u001b[38;5;28;01mNone\u001b[39;00m:\n\u001b[1;32m    162\u001b[0m     progress_bar\u001b[38;5;241m.\u001b[39mupdate_stats(\n\u001b[1;32m    163\u001b[0m         \u001b[38;5;28mdict\u001b[39m(\n\u001b[1;32m    164\u001b[0m             calls\u001b[38;5;241m=\u001b[39mprogress_bar\u001b[38;5;241m.\u001b[39minfo[\u001b[38;5;124m'\u001b[39m\u001b[38;5;124mcalls\u001b[39m\u001b[38;5;124m'\u001b[39m] \u001b[38;5;241m+\u001b[39m \u001b[38;5;28msum\u001b[39m(finite_prior_mask)\u001b[38;5;241m.\u001b[39mitem(),\n\u001b[1;32m    165\u001b[0m             accept\u001b[38;5;241m=\u001b[39mtorch\u001b[38;5;241m.\u001b[39mmean(alpha)\u001b[38;5;241m.\u001b[39mitem(),\n\u001b[1;32m    166\u001b[0m             N\u001b[38;5;241m=\u001b[39mi,\n\u001b[0;32m--> 167\u001b[0m             scale\u001b[38;5;241m=\u001b[39m\u001b[43msigma\u001b[49m\u001b[38;5;241;43m.\u001b[39;49m\u001b[43mitem\u001b[49m() \u001b[38;5;241m/\u001b[39m (\u001b[38;5;241m2.38\u001b[39m \u001b[38;5;241m/\u001b[39m np\u001b[38;5;241m.\u001b[39msqrt(n_dim)),\n\u001b[1;32m    168\u001b[0m             corr\u001b[38;5;241m=\u001b[39mnp\u001b[38;5;241m.\u001b[39mmean(cc_prime)\n\u001b[1;32m    169\u001b[0m         )\n\u001b[1;32m    170\u001b[0m     )\n\u001b[1;32m    172\u001b[0m \u001b[38;5;66;03m# Loop termination criteria:\u001b[39;00m\n\u001b[1;32m    173\u001b[0m \u001b[38;5;28;01mif\u001b[39;00m corr_threshold \u001b[38;5;129;01mis\u001b[39;00m \u001b[38;5;28;01mNone\u001b[39;00m \u001b[38;5;129;01mand\u001b[39;00m i \u001b[38;5;241m>\u001b[39m\u001b[38;5;241m=\u001b[39m \u001b[38;5;28mint\u001b[39m(n_min \u001b[38;5;241m*\u001b[39m ((\u001b[38;5;241m2.38\u001b[39m \u001b[38;5;241m/\u001b[39m np\u001b[38;5;241m.\u001b[39msqrt(n_dim)) \u001b[38;5;241m/\u001b[39m sigma\u001b[38;5;241m.\u001b[39mitem()) \u001b[38;5;241m*\u001b[39m\u001b[38;5;241m*\u001b[39m \u001b[38;5;241m2\u001b[39m):\n",
      "\u001b[0;31mAttributeError\u001b[0m: 'float' object has no attribute 'item'"
     ]
    }
   ],
   "source": [
    "t0 = time.time() #stores current time, date, year, etc. in one float\n",
    "# with Pool(n_cpus) as pool: #sets up code to run over my n number of cpus on laptop\n",
    "    \n",
    "sampler = pc.Sampler(n_particles = n_particles,\n",
    "                n_dim = model.n_params,\n",
    "                log_likelihood = model.log_likelihood,\n",
    "                log_prior = model.log_prior,\n",
    "                bounds = np.array(list(zip(model.lower_bnds, model.upper_bnds))),\n",
    "                random_state=SEED,\n",
    "                vectorize_likelihood=False,\n",
    "                vectorize_prior=False,\n",
    "                infer_vectorization=False\n",
    "            ) #stores all relevant info from # of parameters being fit (ndim) to the actual results\n",
    "\n",
    "sampler.run(prior_samples = prior_samples) #starts with prior sample definied in latin hypercube sampling, and runs it\n",
    "result = sampler.results #results of sampler.run on prior_samples\n",
    "\n",
    "with open('tester01_result.pkl', 'wb') as f: #open that file if exists, if not make that file\n",
    "    pickle.dump(result, f, protocol=pickle.HIGHEST_PROTOCOL) #saves result object (dictionary) to pickle file\n",
    "\n",
    "# we need to remove the librr simulator from the class in order to successfully save and load the class from a pkl file. \n",
    "#del model.rr\n",
    "with open('tester01_mod.pkl', 'wb') as f: #open that file if exists, if not make that file\n",
    "    pickle.dump(model.__dict__, f, protocol=pickle.HIGHEST_PROTOCOL) #saves model dictionary in pickle file\n",
    "\n",
    "t1 = time.time() #time after running this section\n",
    "seconds = t1-t0 #difference in start and stop time\n",
    "\n",
    "elapsed = time.strftime(\"%H:%M:%S\", time.gmtime(seconds)) #converts float to a time quantity we use\n",
    "print('\\nElapsed time: ', elapsed) #printing time it took for code to run"
   ]
  },
  {
   "cell_type": "code",
   "execution_count": 26,
   "metadata": {},
   "outputs": [
    {
     "ename": "NameError",
     "evalue": "name 'result' is not defined",
     "output_type": "error",
     "traceback": [
      "\u001b[0;31m---------------------------------------------------------------------------\u001b[0m",
      "\u001b[0;31mNameError\u001b[0m                                 Traceback (most recent call last)",
      "Cell \u001b[0;32mIn[26], line 1\u001b[0m\n\u001b[0;32m----> 1\u001b[0m pc\u001b[38;5;241m.\u001b[39mplotting\u001b[38;5;241m.\u001b[39mtrace(\u001b[43mresult\u001b[49m, labels\u001b[38;5;241m=\u001b[39mmodel\u001b[38;5;241m.\u001b[39mparams)\n",
      "\u001b[0;31mNameError\u001b[0m: name 'result' is not defined"
     ]
    }
   ],
   "source": [
    "pc.plotting.trace(result, labels=model.params);"
   ]
  }
 ],
 "metadata": {
  "kernelspec": {
   "display_name": "base",
   "language": "python",
   "name": "python3"
  },
  "language_info": {
   "codemirror_mode": {
    "name": "ipython",
    "version": 3
   },
   "file_extension": ".py",
   "mimetype": "text/x-python",
   "name": "python",
   "nbconvert_exporter": "python",
   "pygments_lexer": "ipython3",
   "version": "3.9.18"
  }
 },
 "nbformat": 4,
 "nbformat_minor": 2
}
