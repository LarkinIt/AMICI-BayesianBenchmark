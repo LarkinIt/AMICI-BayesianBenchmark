{
 "cells": [
  {
   "cell_type": "code",
   "execution_count": 8,
   "metadata": {},
   "outputs": [],
   "source": [
    "import numpy as np\n",
    "import roadrunner\n",
    "import pandas as pd\n",
    "import matplotlib.pyplot as plt\n",
    "\n",
    "SEED=1\n",
    "np.random.seed(seed=SEED)\n",
    "\n",
    "# Model system parameters\n",
    "MODEL_SBML_FILE = \"model_Calcium_Oscillate.xml\"\n",
    "DURATION = 4\n",
    "\n",
    "# Synthetic dataset parameters\n",
    "NOISE = 0.02 # % Gaussian noise (range is 0-1)\n",
    "N_PTS = DURATION * 1000 + 1\n",
    "T_PTS = np.arange(0,4.2, 0.2).astype(float)#[0,0.1,0.25,0.5,0.75,1,1.25,1.5,1.75,2,2.25,2.5,3,3.25,3.5,4]"
   ]
  },
  {
   "cell_type": "code",
   "execution_count": 9,
   "metadata": {},
   "outputs": [
    {
     "data": {
      "text/plain": [
       "array([0. , 0.2, 0.4, 0.6, 0.8, 1. , 1.2, 1.4, 1.6, 1.8, 2. , 2.2, 2.4,\n",
       "       2.6, 2.8, 3. , 3.2, 3.4, 3.6, 3.8, 4. ])"
      ]
     },
     "execution_count": 9,
     "metadata": {},
     "output_type": "execute_result"
    }
   ],
   "source": [
    "T_PTS"
   ]
  },
  {
   "cell_type": "code",
   "execution_count": 15,
   "metadata": {},
   "outputs": [
    {
     "name": "stdout",
     "output_type": "stream",
     "text": [
      "[0.  0.2 0.4 0.6 0.8 1.  1.2 1.4 1.6 1.8 2.  2.2 2.4 2.6 2.8 3.  3.2 3.4\n",
      " 3.6 3.8 4. ]\n"
     ]
    }
   ],
   "source": [
    "def gaussian_noise(x,std,mu=0):\n",
    "    noise = np.random.normal(mu, std, size = x.shape)\n",
    "    x_noisy = x + noise\n",
    "    return x_noisy\n",
    "\n",
    "rr = roadrunner.RoadRunner(MODEL_SBML_FILE)\n",
    "rr.integrator.absolute_tolerance = 5e-10\n",
    "rr.integrator.relative_tolerance = 1e-8\n",
    "\n",
    "rr.resetAll()\n",
    "res = rr.simulate(times=T_PTS)\n",
    "# ignore the first timepoint (i.e. t=0)\n",
    "ts_data = res[:, 0]\n",
    "prod_traj = res[:, -1]\n",
    "print(ts_data)\n",
    "idxs = [list(ts_data).index(x) for x in T_PTS]\n",
    "select_prod_traj = prod_traj[idxs]\n",
    "\n",
    "std = NOISE * select_prod_traj\n",
    "noisy_data = gaussian_noise(select_prod_traj, std)"
   ]
  },
  {
   "cell_type": "code",
   "execution_count": 16,
   "metadata": {},
   "outputs": [
    {
     "data": {
      "image/png": "[encoded data removed]",
      "text/plain": [
       "<Figure size 640x480 with 1 Axes>"
      ]
     },
     "metadata": {},
     "output_type": "display_data"
    }
   ],
   "source": [
    "plt.figure(dpi=100)\n",
    "plt.plot(ts_data, prod_traj, 'r-', lw=1, label=\"Original\")\n",
    "plt.plot(T_PTS, noisy_data, 'rx', markersize=7, label=\"Noisy Data\")\n",
    "plt.legend()\n",
    "plt.xlabel(\"Time\");\n",
    "plt.ylabel(\"[Ca]\");"
   ]
  },
  {
   "cell_type": "code",
   "execution_count": 17,
   "metadata": {},
   "outputs": [
    {
     "data": {
      "text/html": [
       "<div>\n",
       "<style scoped>\n",
       "    .dataframe tbody tr th:only-of-type {\n",
       "        vertical-align: middle;\n",
       "    }\n",
       "\n",
       "    .dataframe tbody tr th {\n",
       "        vertical-align: top;\n",
       "    }\n",
       "\n",
       "    .dataframe thead th {\n",
       "        text-align: right;\n",
       "    }\n",
       "</style>\n",
       "<table border=\"1\" class=\"dataframe\">\n",
       "  <thead>\n",
       "    <tr style=\"text-align: right;\">\n",
       "      <th></th>\n",
       "      <th>observableId</th>\n",
       "      <th>simulationConditionId</th>\n",
       "      <th>measurement</th>\n",
       "      <th>time</th>\n",
       "    </tr>\n",
       "  </thead>\n",
       "  <tbody>\n",
       "    <tr>\n",
       "      <th>0</th>\n",
       "      <td>observable_Calcium</td>\n",
       "      <td>simCondition</td>\n",
       "      <td>6.217053</td>\n",
       "      <td>0.0</td>\n",
       "    </tr>\n",
       "    <tr>\n",
       "      <th>1</th>\n",
       "      <td>observable_Calcium</td>\n",
       "      <td>simCondition</td>\n",
       "      <td>0.622675</td>\n",
       "      <td>0.2</td>\n",
       "    </tr>\n",
       "    <tr>\n",
       "      <th>2</th>\n",
       "      <td>observable_Calcium</td>\n",
       "      <td>simCondition</td>\n",
       "      <td>1.564862</td>\n",
       "      <td>0.4</td>\n",
       "    </tr>\n",
       "    <tr>\n",
       "      <th>3</th>\n",
       "      <td>observable_Calcium</td>\n",
       "      <td>simCondition</td>\n",
       "      <td>3.138463</td>\n",
       "      <td>0.6</td>\n",
       "    </tr>\n",
       "    <tr>\n",
       "      <th>4</th>\n",
       "      <td>observable_Calcium</td>\n",
       "      <td>simCondition</td>\n",
       "      <td>6.070215</td>\n",
       "      <td>0.8</td>\n",
       "    </tr>\n",
       "    <tr>\n",
       "      <th>5</th>\n",
       "      <td>observable_Calcium</td>\n",
       "      <td>simCondition</td>\n",
       "      <td>10.210624</td>\n",
       "      <td>1.0</td>\n",
       "    </tr>\n",
       "    <tr>\n",
       "      <th>6</th>\n",
       "      <td>observable_Calcium</td>\n",
       "      <td>simCondition</td>\n",
       "      <td>19.794968</td>\n",
       "      <td>1.2</td>\n",
       "    </tr>\n",
       "    <tr>\n",
       "      <th>7</th>\n",
       "      <td>observable_Calcium</td>\n",
       "      <td>simCondition</td>\n",
       "      <td>34.738069</td>\n",
       "      <td>1.4</td>\n",
       "    </tr>\n",
       "    <tr>\n",
       "      <th>8</th>\n",
       "      <td>observable_Calcium</td>\n",
       "      <td>simCondition</td>\n",
       "      <td>71.754738</td>\n",
       "      <td>1.6</td>\n",
       "    </tr>\n",
       "    <tr>\n",
       "      <th>9</th>\n",
       "      <td>observable_Calcium</td>\n",
       "      <td>simCondition</td>\n",
       "      <td>183.575765</td>\n",
       "      <td>1.8</td>\n",
       "    </tr>\n",
       "    <tr>\n",
       "      <th>10</th>\n",
       "      <td>observable_Calcium</td>\n",
       "      <td>simCondition</td>\n",
       "      <td>933.414497</td>\n",
       "      <td>2.0</td>\n",
       "    </tr>\n",
       "    <tr>\n",
       "      <th>11</th>\n",
       "      <td>observable_Calcium</td>\n",
       "      <td>simCondition</td>\n",
       "      <td>3976.239479</td>\n",
       "      <td>2.2</td>\n",
       "    </tr>\n",
       "    <tr>\n",
       "      <th>12</th>\n",
       "      <td>observable_Calcium</td>\n",
       "      <td>simCondition</td>\n",
       "      <td>5943.832288</td>\n",
       "      <td>2.4</td>\n",
       "    </tr>\n",
       "    <tr>\n",
       "      <th>13</th>\n",
       "      <td>observable_Calcium</td>\n",
       "      <td>simCondition</td>\n",
       "      <td>920.957020</td>\n",
       "      <td>2.6</td>\n",
       "    </tr>\n",
       "    <tr>\n",
       "      <th>14</th>\n",
       "      <td>observable_Calcium</td>\n",
       "      <td>simCondition</td>\n",
       "      <td>207.441669</td>\n",
       "      <td>2.8</td>\n",
       "    </tr>\n",
       "    <tr>\n",
       "      <th>15</th>\n",
       "      <td>observable_Calcium</td>\n",
       "      <td>simCondition</td>\n",
       "      <td>422.138328</td>\n",
       "      <td>3.0</td>\n",
       "    </tr>\n",
       "    <tr>\n",
       "      <th>16</th>\n",
       "      <td>observable_Calcium</td>\n",
       "      <td>simCondition</td>\n",
       "      <td>1290.080048</td>\n",
       "      <td>3.2</td>\n",
       "    </tr>\n",
       "    <tr>\n",
       "      <th>17</th>\n",
       "      <td>observable_Calcium</td>\n",
       "      <td>simCondition</td>\n",
       "      <td>2858.721644</td>\n",
       "      <td>3.4</td>\n",
       "    </tr>\n",
       "    <tr>\n",
       "      <th>18</th>\n",
       "      <td>observable_Calcium</td>\n",
       "      <td>simCondition</td>\n",
       "      <td>2740.010825</td>\n",
       "      <td>3.6</td>\n",
       "    </tr>\n",
       "    <tr>\n",
       "      <th>19</th>\n",
       "      <td>observable_Calcium</td>\n",
       "      <td>simCondition</td>\n",
       "      <td>571.730382</td>\n",
       "      <td>3.8</td>\n",
       "    </tr>\n",
       "    <tr>\n",
       "      <th>20</th>\n",
       "      <td>observable_Calcium</td>\n",
       "      <td>simCondition</td>\n",
       "      <td>576.482079</td>\n",
       "      <td>4.0</td>\n",
       "    </tr>\n",
       "  </tbody>\n",
       "</table>\n",
       "</div>"
      ],
      "text/plain": [
       "          observableId simulationConditionId  measurement  time\n",
       "0   observable_Calcium          simCondition     6.217053   0.0\n",
       "1   observable_Calcium          simCondition     0.622675   0.2\n",
       "2   observable_Calcium          simCondition     1.564862   0.4\n",
       "3   observable_Calcium          simCondition     3.138463   0.6\n",
       "4   observable_Calcium          simCondition     6.070215   0.8\n",
       "5   observable_Calcium          simCondition    10.210624   1.0\n",
       "6   observable_Calcium          simCondition    19.794968   1.2\n",
       "7   observable_Calcium          simCondition    34.738069   1.4\n",
       "8   observable_Calcium          simCondition    71.754738   1.6\n",
       "9   observable_Calcium          simCondition   183.575765   1.8\n",
       "10  observable_Calcium          simCondition   933.414497   2.0\n",
       "11  observable_Calcium          simCondition  3976.239479   2.2\n",
       "12  observable_Calcium          simCondition  5943.832288   2.4\n",
       "13  observable_Calcium          simCondition   920.957020   2.6\n",
       "14  observable_Calcium          simCondition   207.441669   2.8\n",
       "15  observable_Calcium          simCondition   422.138328   3.0\n",
       "16  observable_Calcium          simCondition  1290.080048   3.2\n",
       "17  observable_Calcium          simCondition  2858.721644   3.4\n",
       "18  observable_Calcium          simCondition  2740.010825   3.6\n",
       "19  observable_Calcium          simCondition   571.730382   3.8\n",
       "20  observable_Calcium          simCondition   576.482079   4.0"
      ]
     },
     "execution_count": 17,
     "metadata": {},
     "output_type": "execute_result"
    }
   ],
   "source": [
    "N_DATA = len(T_PTS)\n",
    "# Save for later\n",
    "df = pd.DataFrame()\n",
    "\n",
    "df[\"observableId\"] = [\"observable_Calcium\"] * N_DATA\n",
    "df[\"simulationConditionId\"] = [\"simCondition\"] * N_DATA\n",
    "df[\"measurement\"] = noisy_data\n",
    "df[\"time\"] = T_PTS\n",
    "#df[\"noiseParameters\"] = [0] * N_DATA\n",
    "df.to_csv(\"measurementData_Calcium_Oscillate.tsv\", sep=\"\\t\", index=False)\n",
    "df"
   ]
  },
  {
   "cell_type": "code",
   "execution_count": 18,
   "metadata": {},
   "outputs": [
    {
     "name": "stdout",
     "output_type": "stream",
     "text": [
      "/home/larkinit/anaconda3/envs/test1/lib/python3.12/site-packages/petab/v2/__init__.py:12: UserWarning: Support for PEtab2.0 and all of petab.v2 is experimental and subject to changes!\n",
      "  warn(\n",
      "usage: petablint [-h] [-v] [-s SBML_FILE_NAME] [-o OBSERVABLE_FILE_NAME]\n",
      "                 [-m MEASUREMENT_FILE_NAME] [-c CONDITION_FILE_NAME]\n",
      "                 [-p PARAMETER_FILE_NAME] [--vis VISUALIZATION_FILE_NAME]\n",
      "                 [-y YAML_FILE_NAME_DEPRECATED]\n",
      "                 [yaml_file_name]\n",
      "\n",
      "Check if a set of files adheres to the PEtab format.\n",
      "\n",
      "positional arguments:\n",
      "  yaml_file_name        PEtab YAML problem filename\n",
      "\n",
      "options:\n",
      "  -h, --help            show this help message and exit\n",
      "  -v, --verbose         More verbose output\n",
      "  -y YAML_FILE_NAME_DEPRECATED, --yaml YAML_FILE_NAME_DEPRECATED\n",
      "                        PEtab YAML problem filename. *DEPRECATED* pass the\n",
      "                        file name as positional argument instead.\n",
      "\n",
      "Check individual files *DEPRECATED*. Please contact us via https://github.com/PEtab-dev/libpetab-python/issues, if you need this.:\n",
      "  -s SBML_FILE_NAME, --sbml SBML_FILE_NAME\n",
      "                        SBML model filename\n",
      "  -o OBSERVABLE_FILE_NAME, --observables OBSERVABLE_FILE_NAME\n",
      "                        Observable table\n",
      "  -m MEASUREMENT_FILE_NAME, --measurements MEASUREMENT_FILE_NAME\n",
      "                        Measurement table\n",
      "  -c CONDITION_FILE_NAME, --conditions CONDITION_FILE_NAME\n",
      "                        Conditions table\n",
      "  -p PARAMETER_FILE_NAME, --parameters PARAMETER_FILE_NAME\n",
      "                        Parameter table\n",
      "  --vis VISUALIZATION_FILE_NAME, --visualizations VISUALIZATION_FILE_NAME\n",
      "                        Visualization table\n",
      "\u001b[0m\u001b[0m"
     ]
    }
   ],
   "source": [
    "!petablint -h"
   ]
  },
  {
   "cell_type": "code",
   "execution_count": 19,
   "metadata": {},
   "outputs": [
    {
     "name": "stdout",
     "output_type": "stream",
     "text": [
      "/home/larkinit/anaconda3/envs/test1/lib/python3.12/site-packages/petab/v2/__init__.py:12: UserWarning: Support for PEtab2.0 and all of petab.v2 is experimental and subject to changes!\n",
      "  warn(\n",
      "\u001b[0m"
     ]
    }
   ],
   "source": [
    "!petablint ./Calcium_Oscillate.yaml"
   ]
  },
  {
   "cell_type": "code",
   "execution_count": null,
   "metadata": {},
   "outputs": [],
   "source": []
  }
 ],
 "metadata": {
  "kernelspec": {
   "display_name": "test1",
   "language": "python",
   "name": "python3"
  },
  "language_info": {
   "codemirror_mode": {
    "name": "ipython",
    "version": 3
   },
   "file_extension": ".py",
   "mimetype": "text/x-python",
   "name": "python",
   "nbconvert_exporter": "python",
   "pygments_lexer": "ipython3",
   "version": "3.12.4"
  }
 },
 "nbformat": 4,
 "nbformat_minor": 2
}
