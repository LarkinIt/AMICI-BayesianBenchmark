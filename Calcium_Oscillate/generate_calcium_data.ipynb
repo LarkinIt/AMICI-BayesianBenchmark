{
 "cells": [
  {
   "cell_type": "code",
   "execution_count": 1,
   "metadata": {},
   "outputs": [],
   "source": [
    "import numpy as np\n",
    "import roadrunner\n",
    "import pandas as pd\n",
    "import matplotlib.pyplot as plt\n",
    "\n",
    "SEED=1\n",
    "np.random.seed(seed=SEED)\n",
    "\n",
    "# Model system parameters\n",
    "MODEL_SBML_FILE = \"model_Calcium_Oscillate.xml\"\n",
    "DURATION = 4\n",
    "\n",
    "# Synthetic dataset parameters\n",
    "NOISE = 0.02 # % Gaussian noise (range is 0-1)\n",
    "N_PTS = DURATION * 10000 + 1\n",
    "T_PTS = [0,0.0001,0.1,0.25,0.5,0.75,1,1.25,1.5,1.75,2,2.25,2.5,3,3.5,4]"
   ]
  },
  {
   "cell_type": "code",
   "execution_count": 2,
   "metadata": {},
   "outputs": [
    {
     "ename": "RuntimeError",
     "evalue": "LLVMModelSymbols: Unable to process element",
     "output_type": "error",
     "traceback": [
      "\u001b[0;31m---------------------------------------------------------------------------\u001b[0m",
      "\u001b[0;31mRuntimeError\u001b[0m                              Traceback (most recent call last)",
      "Cell \u001b[0;32mIn[2], line 6\u001b[0m\n\u001b[1;32m      3\u001b[0m     x_noisy \u001b[38;5;241m=\u001b[39m x \u001b[38;5;241m+\u001b[39m noise\n\u001b[1;32m      4\u001b[0m     \u001b[38;5;28;01mreturn\u001b[39;00m x_noisy\n\u001b[0;32m----> 6\u001b[0m rr \u001b[38;5;241m=\u001b[39m \u001b[43mroadrunner\u001b[49m\u001b[38;5;241;43m.\u001b[39;49m\u001b[43mRoadRunner\u001b[49m\u001b[43m(\u001b[49m\u001b[43mMODEL_SBML_FILE\u001b[49m\u001b[43m)\u001b[49m\n\u001b[1;32m      7\u001b[0m rr\u001b[38;5;241m.\u001b[39mintegrator\u001b[38;5;241m.\u001b[39mabsolute_tolerance \u001b[38;5;241m=\u001b[39m \u001b[38;5;241m5e-10\u001b[39m\n\u001b[1;32m      8\u001b[0m rr\u001b[38;5;241m.\u001b[39mintegrator\u001b[38;5;241m.\u001b[39mrelative_tolerance \u001b[38;5;241m=\u001b[39m \u001b[38;5;241m1e-8\u001b[39m\n",
      "File \u001b[0;32m~/anaconda3/envs/bayes/lib/python3.12/site-packages/roadrunner/roadrunner.py:4593\u001b[0m, in \u001b[0;36mRoadRunner._new_init\u001b[0;34m(self, *args)\u001b[0m\n\u001b[1;32m   4590\u001b[0m             \u001b[38;5;28;01mreturn\u001b[39;00m\n\u001b[1;32m   4592\u001b[0m \u001b[38;5;66;03m# Otherwise, use regular init\u001b[39;00m\n\u001b[0;32m-> 4593\u001b[0m     \u001b[43mRoadRunner\u001b[49m\u001b[38;5;241;43m.\u001b[39;49m\u001b[43m_swig_init\u001b[49m\u001b[43m(\u001b[49m\u001b[38;5;28;43mself\u001b[39;49m\u001b[43m,\u001b[49m\u001b[43m \u001b[49m\u001b[38;5;241;43m*\u001b[39;49m\u001b[43margs\u001b[49m\u001b[43m)\u001b[49m\n\u001b[1;32m   4594\u001b[0m     RoadRunner\u001b[38;5;241m.\u001b[39m_makeProperties(\u001b[38;5;28mself\u001b[39m)\n",
      "File \u001b[0;32m~/anaconda3/envs/bayes/lib/python3.12/site-packages/roadrunner/roadrunner.py:2737\u001b[0m, in \u001b[0;36mRoadRunner.__init__\u001b[0;34m(self, *args)\u001b[0m\n\u001b[1;32m   2709\u001b[0m \u001b[38;5;28;01mdef\u001b[39;00m \u001b[38;5;21m__init__\u001b[39m(\u001b[38;5;28mself\u001b[39m, \u001b[38;5;241m*\u001b[39margs):\n\u001b[1;32m   2710\u001b[0m \u001b[38;5;250m    \u001b[39m\u001b[38;5;124mr\u001b[39m\u001b[38;5;124;03m\"\"\"\u001b[39;00m\n\u001b[1;32m   2711\u001b[0m \u001b[38;5;124;03m    *Overload 1:*\u001b[39;00m\n\u001b[1;32m   2712\u001b[0m \n\u001b[0;32m   (...)\u001b[0m\n\u001b[1;32m   2735\u001b[0m \u001b[38;5;124;03m    RoadRunner copy constructor\u001b[39;00m\n\u001b[1;32m   2736\u001b[0m \u001b[38;5;124;03m    \"\"\"\u001b[39;00m\n\u001b[0;32m-> 2737\u001b[0m     _roadrunner\u001b[38;5;241m.\u001b[39mRoadRunner_swiginit(\u001b[38;5;28mself\u001b[39m, \u001b[43m_roadrunner\u001b[49m\u001b[38;5;241;43m.\u001b[39;49m\u001b[43mnew_RoadRunner\u001b[49m\u001b[43m(\u001b[49m\u001b[38;5;241;43m*\u001b[39;49m\u001b[43margs\u001b[49m\u001b[43m)\u001b[49m)\n",
      "\u001b[0;31mRuntimeError\u001b[0m: LLVMModelSymbols: Unable to process element"
     ]
    }
   ],
   "source": [
    "def gaussian_noise(x,std,mu=0):\n",
    "    noise = np.random.normal(mu, std, size = x.shape)\n",
    "    x_noisy = x + noise\n",
    "    return x_noisy\n",
    "\n",
    "rr = roadrunner.RoadRunner(MODEL_SBML_FILE)\n",
    "rr.integrator.absolute_tolerance = 5e-10\n",
    "rr.integrator.relative_tolerance = 1e-8\n",
    "\n",
    "rr.resetAll()\n",
    "res = rr.simulate(0, DURATION, N_PTS)\n",
    "# ignore the first timepoint (i.e. t=0)\n",
    "ts_data = res[:, 0]\n",
    "prod_traj = res[:, -2]\n",
    "\n",
    "idxs = [list(ts_data).index(x) for x in T_PTS]\n",
    "select_prod_traj = prod_traj[idxs]\n",
    "\n",
    "std = NOISE * select_prod_traj\n",
    "noisy_data = gaussian_noise(select_prod_traj, std)"
   ]
  },
  {
   "cell_type": "code",
   "execution_count": null,
   "metadata": {},
   "outputs": [],
   "source": [
    "plt.figure(dpi=100)\n",
    "plt.plot(ts_data, prod_traj, 'r-', lw=1, label=\"Original\")\n",
    "plt.plot(T_PTS, noisy_data, 'rx', markersize=7, label=\"Noisy Data\")\n",
    "plt.legend()\n",
    "plt.xlabel(\"Time\");\n",
    "plt.ylabel(\"[Ca]\");"
   ]
  },
  {
   "cell_type": "code",
   "execution_count": null,
   "metadata": {},
   "outputs": [],
   "source": [
    "N_DATA = len(T_PTS)\n",
    "# Save for later\n",
    "df = pd.DataFrame()\n",
    "\n",
    "df[\"observableId\"] = [\"observable_mRNA\"] * N_DATA\n",
    "df[\"simulationConditionId\"] = [\"simCondition\"] * N_DATA\n",
    "df[\"measurement\"] = noisy_data\n",
    "df[\"time\"] = T_PTS\n",
    "#df[\"noiseParameters\"] = [0] * N_DATA\n",
    "df.to_csv(\"measurementData_mRNA_self_reg.tsv\", sep=\"\\t\", index=False)\n",
    "df"
   ]
  },
  {
   "cell_type": "code",
   "execution_count": null,
   "metadata": {},
   "outputs": [],
   "source": [
    "!petablint -h"
   ]
  },
  {
   "cell_type": "code",
   "execution_count": null,
   "metadata": {},
   "outputs": [],
   "source": [
    "!petablint ./mRNA_self_reg.yaml"
   ]
  },
  {
   "cell_type": "code",
   "execution_count": null,
   "metadata": {},
   "outputs": [],
   "source": []
  }
 ],
 "metadata": {
  "kernelspec": {
   "display_name": "bayes",
   "language": "python",
   "name": "python3"
  },
  "language_info": {
   "codemirror_mode": {
    "name": "ipython",
    "version": 3
   },
   "file_extension": ".py",
   "mimetype": "text/x-python",
   "name": "python",
   "nbconvert_exporter": "python",
   "pygments_lexer": "ipython3",
   "version": "3.12.4"
  }
 },
 "nbformat": 4,
 "nbformat_minor": 2
}
