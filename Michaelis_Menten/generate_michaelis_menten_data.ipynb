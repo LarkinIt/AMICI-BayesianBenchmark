{
 "cells": [
  {
   "cell_type": "code",
   "execution_count": 1,
   "metadata": {},
   "outputs": [],
   "source": [
    "import numpy as np\n",
    "import roadrunner\n",
    "import pandas as pd\n",
    "import matplotlib.pyplot as plt\n",
    "\n",
    "SEED=1\n",
    "np.random.seed(seed=SEED)\n",
    "\n",
    "# Model system parameters\n",
    "MODEL_SBML_FILE = \"model_Michaelis_Menten.xml\"\n",
    "SPECIES = [\"S\", \"E\", \"ES\", \"P\"]\n",
    "SPECIES_IDs = [\"S1\", \"S2\", \"S3\", \"S4\"] # how the species ids are saved in the SBML file from the original BNGL model\n",
    "DURATION = 20000\n",
    "PARAMS = [\"log_k1\", \"log_k2\", \"log_k3\"]\n",
    "\n",
    "# Synthetic dataset parameters\n",
    "NOISE = 0.01 # % Gaussian noise (range is 0-1)\n",
    "N_PTS = 11"
   ]
  },
  {
   "cell_type": "code",
   "execution_count": 2,
   "metadata": {},
   "outputs": [
    {
     "name": "stdout",
     "output_type": "stream",
     "text": [
      "STD: [1.07086991 2.11486628 3.11840912 4.05779095 4.88700324 5.51960799\n",
      " 5.86184309 5.97103996 5.994584   5.99901241]\n",
      "[  1.73946258  -1.29378301  -1.64705561  -4.35388236   4.22924989\n",
      " -12.70359139  10.22781278  -4.54519683   1.91250666  -1.49597598]\n",
      "[108.82645405 210.19284535 310.19385646 401.42521255 492.92957392\n",
      " 539.25720801 596.41212141 592.55879944 601.37090699 598.40526538]\n"
     ]
    }
   ],
   "source": [
    "def gaussian_noise(x,std,mu=0):\n",
    "    noise = np.random.normal(mu, std, size = x.shape)\n",
    "    print(noise)\n",
    "    x_noisy = x + noise\n",
    "    return x_noisy\n",
    "\n",
    "rr = roadrunner.RoadRunner(MODEL_SBML_FILE)\n",
    "rr.integrator.absolute_tolerance = 5e-10\n",
    "rr.integrator.relative_tolerance = 1e-8\n",
    "\n",
    "rr.resetAll()\n",
    "res = rr.simulate(0, DURATION, N_PTS)\n",
    "# ignore the first timepoint (i.e. t=0)\n",
    "ts_data = res[1:, 0]\n",
    "prod_traj = res[1:, -1]\n",
    "\n",
    "std = NOISE * prod_traj#np.std(prod_traj)\n",
    "print(\"STD:\", std)\n",
    "noisy_data = gaussian_noise(prod_traj, std)\n",
    "print(noisy_data)"
   ]
  },
  {
   "cell_type": "code",
   "execution_count": 3,
   "metadata": {},
   "outputs": [
    {
     "data": {
      "text/plain": [
       "[<matplotlib.lines.Line2D at 0x789d71c9ed20>]"
      ]
     },
     "execution_count": 3,
     "metadata": {},
     "output_type": "execute_result"
    },
    {
     "data": {
      "image/png": "[encoded data removed]",
      "text/plain": [
       "<Figure size 640x480 with 1 Axes>"
      ]
     },
     "metadata": {},
     "output_type": "display_data"
    }
   ],
   "source": [
    "plt.plot(ts_data, prod_traj, 'r-', lw=0.5, label=\"Original\")\n",
    "plt.plot(ts_data, noisy_data, 'rx', label=\"Noisy Data\")"
   ]
  },
  {
   "cell_type": "code",
   "execution_count": 4,
   "metadata": {},
   "outputs": [
    {
     "data": {
      "text/html": [
       "<div>\n",
       "<style scoped>\n",
       "    .dataframe tbody tr th:only-of-type {\n",
       "        vertical-align: middle;\n",
       "    }\n",
       "\n",
       "    .dataframe tbody tr th {\n",
       "        vertical-align: top;\n",
       "    }\n",
       "\n",
       "    .dataframe thead th {\n",
       "        text-align: right;\n",
       "    }\n",
       "</style>\n",
       "<table border=\"1\" class=\"dataframe\">\n",
       "  <thead>\n",
       "    <tr style=\"text-align: right;\">\n",
       "      <th></th>\n",
       "      <th>observableId</th>\n",
       "      <th>simulationConditionId</th>\n",
       "      <th>measurement</th>\n",
       "      <th>time</th>\n",
       "    </tr>\n",
       "  </thead>\n",
       "  <tbody>\n",
       "    <tr>\n",
       "      <th>0</th>\n",
       "      <td>product</td>\n",
       "      <td>simCondition</td>\n",
       "      <td>108.826454</td>\n",
       "      <td>2000.0</td>\n",
       "    </tr>\n",
       "    <tr>\n",
       "      <th>1</th>\n",
       "      <td>product</td>\n",
       "      <td>simCondition</td>\n",
       "      <td>210.192845</td>\n",
       "      <td>4000.0</td>\n",
       "    </tr>\n",
       "    <tr>\n",
       "      <th>2</th>\n",
       "      <td>product</td>\n",
       "      <td>simCondition</td>\n",
       "      <td>310.193856</td>\n",
       "      <td>6000.0</td>\n",
       "    </tr>\n",
       "    <tr>\n",
       "      <th>3</th>\n",
       "      <td>product</td>\n",
       "      <td>simCondition</td>\n",
       "      <td>401.425213</td>\n",
       "      <td>8000.0</td>\n",
       "    </tr>\n",
       "    <tr>\n",
       "      <th>4</th>\n",
       "      <td>product</td>\n",
       "      <td>simCondition</td>\n",
       "      <td>492.929574</td>\n",
       "      <td>10000.0</td>\n",
       "    </tr>\n",
       "    <tr>\n",
       "      <th>5</th>\n",
       "      <td>product</td>\n",
       "      <td>simCondition</td>\n",
       "      <td>539.257208</td>\n",
       "      <td>12000.0</td>\n",
       "    </tr>\n",
       "    <tr>\n",
       "      <th>6</th>\n",
       "      <td>product</td>\n",
       "      <td>simCondition</td>\n",
       "      <td>596.412121</td>\n",
       "      <td>14000.0</td>\n",
       "    </tr>\n",
       "    <tr>\n",
       "      <th>7</th>\n",
       "      <td>product</td>\n",
       "      <td>simCondition</td>\n",
       "      <td>592.558799</td>\n",
       "      <td>16000.0</td>\n",
       "    </tr>\n",
       "    <tr>\n",
       "      <th>8</th>\n",
       "      <td>product</td>\n",
       "      <td>simCondition</td>\n",
       "      <td>601.370907</td>\n",
       "      <td>18000.0</td>\n",
       "    </tr>\n",
       "    <tr>\n",
       "      <th>9</th>\n",
       "      <td>product</td>\n",
       "      <td>simCondition</td>\n",
       "      <td>598.405265</td>\n",
       "      <td>20000.0</td>\n",
       "    </tr>\n",
       "  </tbody>\n",
       "</table>\n",
       "</div>"
      ],
      "text/plain": [
       "  observableId simulationConditionId  measurement     time\n",
       "0      product          simCondition   108.826454   2000.0\n",
       "1      product          simCondition   210.192845   4000.0\n",
       "2      product          simCondition   310.193856   6000.0\n",
       "3      product          simCondition   401.425213   8000.0\n",
       "4      product          simCondition   492.929574  10000.0\n",
       "5      product          simCondition   539.257208  12000.0\n",
       "6      product          simCondition   596.412121  14000.0\n",
       "7      product          simCondition   592.558799  16000.0\n",
       "8      product          simCondition   601.370907  18000.0\n",
       "9      product          simCondition   598.405265  20000.0"
      ]
     },
     "execution_count": 4,
     "metadata": {},
     "output_type": "execute_result"
    }
   ],
   "source": [
    "N_DATA = len(ts_data)\n",
    "# Save for later\n",
    "df = pd.DataFrame()\n",
    "\n",
    "df[\"observableId\"] = [\"product\"] * N_DATA\n",
    "df[\"simulationConditionId\"] = [\"simCondition\"] * N_DATA\n",
    "df[\"measurement\"] = noisy_data\n",
    "df[\"time\"] = ts_data\n",
    "#df[\"noiseParameters\"] = [0] * N_DATA\n",
    "df.to_csv(\"measurementData_Michaelis_Menten.tsv\", sep=\"\\t\", index=False)\n",
    "df"
   ]
  },
  {
   "cell_type": "code",
   "execution_count": 5,
   "metadata": {},
   "outputs": [
    {
     "name": "stdout",
     "output_type": "stream",
     "text": [
      "usage: petablint [-h] [-v] [-s SBML_FILE_NAME] [-o OBSERVABLE_FILE_NAME]\n",
      "                 [-m MEASUREMENT_FILE_NAME] [-c CONDITION_FILE_NAME]\n",
      "                 [-p PARAMETER_FILE_NAME] [--vis VISUALIZATION_FILE_NAME]\n",
      "                 [-y YAML_FILE_NAME]\n",
      "\n",
      "Check if a set of files adheres to the PEtab format.\n",
      "\n",
      "options:\n",
      "  -h, --help            show this help message and exit\n",
      "  -v, --verbose         More verbose output\n",
      "  -s SBML_FILE_NAME, --sbml SBML_FILE_NAME\n",
      "                        SBML model filename\n",
      "  -o OBSERVABLE_FILE_NAME, --observables OBSERVABLE_FILE_NAME\n",
      "                        Observable table\n",
      "  -m MEASUREMENT_FILE_NAME, --measurements MEASUREMENT_FILE_NAME\n",
      "                        Measurement table\n",
      "  -c CONDITION_FILE_NAME, --conditions CONDITION_FILE_NAME\n",
      "                        Conditions table\n",
      "  -p PARAMETER_FILE_NAME, --parameters PARAMETER_FILE_NAME\n",
      "                        Parameter table\n",
      "  --vis VISUALIZATION_FILE_NAME, --visualizations VISUALIZATION_FILE_NAME\n",
      "                        Visualization table\n",
      "  -y YAML_FILE_NAME, --yaml YAML_FILE_NAME\n",
      "                        PEtab YAML problem filename\n"
     ]
    }
   ],
   "source": [
    "!petablint -h"
   ]
  },
  {
   "cell_type": "code",
   "execution_count": 6,
   "metadata": {},
   "outputs": [
    {
     "name": "stdout",
     "output_type": "stream",
     "text": [
      "\u001b[33mVisualization table not available. Skipping.\n",
      "\u001b[0m\u001b[0m"
     ]
    }
   ],
   "source": [
    "!petablint -y ./Michaelis_Menten.yaml"
   ]
  },
  {
   "cell_type": "code",
   "execution_count": null,
   "metadata": {},
   "outputs": [],
   "source": []
  }
 ],
 "metadata": {
  "kernelspec": {
   "display_name": "bayes",
   "language": "python",
   "name": "python3"
  },
  "language_info": {
   "codemirror_mode": {
    "name": "ipython",
    "version": 3
   },
   "file_extension": ".py",
   "mimetype": "text/x-python",
   "name": "python",
   "nbconvert_exporter": "python",
   "pygments_lexer": "ipython3",
   "version": "3.12.4"
  }
 },
 "nbformat": 4,
 "nbformat_minor": 2
}
