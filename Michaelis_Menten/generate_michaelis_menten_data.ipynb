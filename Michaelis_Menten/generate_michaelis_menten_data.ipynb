{
 "cells": [
  {
   "cell_type": "code",
   "execution_count": null,
   "metadata": {},
   "outputs": [],
   "source": [
    "import numpy as np\n",
    "import roadrunner\n",
    "import pandas as pd\n",
    "import matplotlib.pyplot as plt\n",
    "\n",
    "SEED=1\n",
    "np.random.seed(seed=SEED)\n",
    "\n",
    "# Model system parameters\n",
    "MODEL_SBML_FILE = \"model_Michaelis_Menten.xml\"\n",
    "SPECIES = [\"S\", \"E\", \"ES\", \"P\"]\n",
    "SPECIES_IDs = [\"S1\", \"S2\", \"S3\", \"S4\"] # how the species ids are saved in the SBML file from the original BNGL model\n",
    "DURATION = 20000\n",
    "PARAMS = [\"log_k1\", \"log_k2\", \"log_k3\"]\n",
    "\n",
    "# Synthetic dataset parameters\n",
    "NOISE = 0.01 # % Gaussian noise (range is 0-1)\n",
    "N_PTS = 11"
   ]
  },
  {
   "cell_type": "code",
   "execution_count": null,
   "metadata": {},
   "outputs": [],
   "source": [
    "def gaussian_noise(x,std,mu=0):\n",
    "    noise = np.random.normal(mu, std, size = x.shape)\n",
    "    print(noise)\n",
    "    x_noisy = x + noise\n",
    "    return x_noisy\n",
    "\n",
    "rr = roadrunner.RoadRunner(MODEL_SBML_FILE)\n",
    "rr.integrator.absolute_tolerance = 5e-10\n",
    "rr.integrator.relative_tolerance = 1e-8\n",
    "\n",
    "rr.resetAll()\n",
    "res = rr.simulate(0, DURATION, N_PTS)\n",
    "# ignore the first timepoint (i.e. t=0)\n",
    "ts_data = res[1:, 0]\n",
    "prod_traj = res[1:, -1]\n",
    "\n",
    "std = NOISE * prod_traj#np.std(prod_traj)\n",
    "print(\"STD:\", std)\n",
    "noisy_data = gaussian_noise(prod_traj, std)\n",
    "print(noisy_data)"
   ]
  },
  {
   "cell_type": "code",
   "execution_count": null,
   "metadata": {},
   "outputs": [],
   "source": [
    "plt.plot(ts_data, prod_traj, 'r-', lw=0.5, label=\"Original\")\n",
    "plt.plot(ts_data, noisy_data, 'rx', label=\"Noisy Data\")"
   ]
  },
  {
   "cell_type": "code",
   "execution_count": null,
   "metadata": {},
   "outputs": [],
   "source": [
    "N_DATA = len(ts_data)\n",
    "# Save for later\n",
    "df = pd.DataFrame()\n",
    "\n",
    "df[\"observableId\"] = [\"product\"] * N_DATA\n",
    "df[\"simulationConditionId\"] = [\"simCondition\"] * N_DATA\n",
    "df[\"measurement\"] = noisy_data\n",
    "df[\"time\"] = ts_data\n",
    "#df[\"noiseParameters\"] = [0] * N_DATA\n",
    "df.to_csv(\"measurementData_Michaelis_Menten.tsv\", sep=\"\\t\", index=False)\n",
    "df"
   ]
  },
  {
   "cell_type": "code",
   "execution_count": null,
   "metadata": {},
   "outputs": [],
   "source": [
    "!petablint -h"
   ]
  },
  {
   "cell_type": "code",
   "execution_count": null,
   "metadata": {},
   "outputs": [],
   "source": [
    "!petablint -y ./Michaelis_Menten.yaml"
   ]
  },
  {
   "cell_type": "code",
   "execution_count": null,
   "metadata": {},
   "outputs": [],
   "source": []
  }
 ],
 "metadata": {
  "kernelspec": {
   "display_name": "bayes",
   "language": "python",
   "name": "python3"
  },
  "language_info": {
   "codemirror_mode": {
    "name": "ipython",
    "version": 3
   },
   "file_extension": ".py",
   "mimetype": "text/x-python",
   "name": "python",
   "nbconvert_exporter": "python",
   "pygments_lexer": "ipython3",
   "version": "3.12.4"
  }
 },
 "nbformat": 4,
 "nbformat_minor": 2
}
