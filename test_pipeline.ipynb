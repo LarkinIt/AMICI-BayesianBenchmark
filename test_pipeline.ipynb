{
 "cells": [
  {
   "cell_type": "markdown",
   "metadata": {},
   "source": [
    "# Test PEtab + roadrunner + pyPESTO + pocoMC\n",
    "\n",
    "## Import libraries and load PEtab problem"
   ]
  },
  {
   "cell_type": "code",
   "execution_count": 1,
   "metadata": {},
   "outputs": [],
   "source": [
    "import numpy as np\n",
    "import petab\n",
    "import pocomc as pc\n",
    "import pypesto.objective\n",
    "import pypesto.optimize as optimize\n",
    "import pypesto.objective.roadrunner as pypesto_rr\n",
    "import pypesto.sample as sample\n",
    "import pypesto.visualize as visualize\n",
    "import pypesto.profile as profile\n",
    "import pypesto.store as store\n",
    "import pypesto.logging as log\n",
    "from IPython.display import Markdown, display\n",
    "import pypesto.history as history\n",
    "from pprint import pprint\n",
    "import matplotlib.pyplot as plt\n",
    "\n",
    "np.random.seed(123)\n",
    "\n",
    "model_name = \"Michaelis_Menten\""
   ]
  },
  {
   "cell_type": "code",
   "execution_count": 2,
   "metadata": {},
   "outputs": [],
   "source": [
    "petab_yaml = f\"./{model_name}/{model_name}.yaml\"\n",
    "\n",
    "petab_problem = petab.Problem.from_yaml(petab_yaml)\n",
    "importer = pypesto_rr.PetabImporterRR(petab_problem)\n",
    "problem = importer.create_problem()\n"
   ]
  },
  {
   "cell_type": "code",
   "execution_count": 3,
   "metadata": {},
   "outputs": [
    {
     "data": {
      "image/png": "[encoded data removed]",
      "text/plain": [
       "<Figure size 600x400 with 1 Axes>"
      ]
     },
     "metadata": {},
     "output_type": "display_data"
    }
   ],
   "source": [
    "petab.visualize.plot_problem(petab_problem);\n",
    "plt.gcf().set_size_inches(6, 4)"
   ]
  },
  {
   "cell_type": "code",
   "execution_count": 4,
   "metadata": {},
   "outputs": [
    {
     "name": "stdout",
     "output_type": "stream",
     "text": [
      "{'fval': 177.58442025403264, 'rdatas': []}\n"
     ]
    }
   ],
   "source": [
    "ret = problem.objective(\n",
    "    petab_problem.get_x_nominal(fixed=False,scaled=True),\n",
    "    mode=\"mode_fun\",\n",
    "    return_dict=True,\n",
    ")\n",
    "pprint(ret)"
   ]
  },
  {
   "cell_type": "code",
   "execution_count": null,
   "metadata": {},
   "outputs": [],
   "source": [
    "import scipy\n",
    "print(scipy.optimize.show_options(\"minimize\", method=\"Nelder-Mead\"))"
   ]
  },
  {
   "cell_type": "code",
   "execution_count": null,
   "metadata": {},
   "outputs": [],
   "source": [
    "solver_options = pypesto_rr.SolverOptions(\n",
    "    relative_tolerance = 5e-10,\n",
    "    absolute_tolerance = 1e-10,\n",
    ")\n",
    "engine = pypesto.engine.MultiProcessEngine()\n",
    "problem.objective.solver_options = solver_options"
   ]
  },
  {
   "cell_type": "code",
   "execution_count": null,
   "metadata": {},
   "outputs": [],
   "source": [
    "\n",
    "print(problem.objective.history)\n",
    "history_options = history.HistoryOptions(trace_record=True)\n",
    "hist_opts = history.HistoryOptions.assert_instance(history_options)\n",
    "problem.objective.__setattr__(\"history\", problem.objective.create_history(\"ch1\", x_names=problem.objective.x_names, options=hist_opts))\n",
    "print(problem.objective.history)"
   ]
  },
  {
   "cell_type": "markdown",
   "metadata": {},
   "source": [
    "## OPTIONAL: Run local optimization using Nelder-Mead"
   ]
  },
  {
   "cell_type": "code",
   "execution_count": null,
   "metadata": {},
   "outputs": [],
   "source": [
    "\"\"\"\n",
    "optimizer = optimize.ScipyOptimizer(method=\"Nelder-Mead\", options={\"maxiter\":10000})\n",
    "\n",
    "result = optimize.minimize(\n",
    "    problem=problem,\n",
    "    optimizer=optimizer,\n",
    "    n_starts=100,  # usually a value >= 100 should be used\n",
    "    engine=engine\n",
    ")\n",
    "display(Markdown(result.summary()))\n",
    "\"\"\"\n"
   ]
  },
  {
   "cell_type": "code",
   "execution_count": null,
   "metadata": {},
   "outputs": [],
   "source": [
    "\"\"\"\n",
    "sampler = sample.MetropolisSampler()\n",
    "sampler.initialize(problem=problem, x0=np.array([-1,1,0]))\n",
    "print(sampler.neglogpost.history)\n",
    "\n",
    "history_options = history.HistoryOptions(trace_record=True)\n",
    "hist_opts = history.HistoryOptions.assert_instance(history_options)\n",
    "sampler.neglogpost.__setattr__(\"history\", problem.objective.create_history(\"ch1\", x_names=problem.objective.x_names, options=hist_opts))\n",
    "print(sampler.neglogpost.history)\"\"\""
   ]
  },
  {
   "cell_type": "markdown",
   "metadata": {},
   "source": [
    "## Run PT-MCMC"
   ]
  },
  {
   "cell_type": "code",
   "execution_count": null,
   "metadata": {},
   "outputs": [],
   "source": [
    "sampler = sample.AdaptiveParallelTemperingSampler(\n",
    "    internal_sampler=sample.AdaptiveMetropolisSampler(), n_chains=4\n",
    ")\n",
    "sampler.initialize(problem=problem, x0=np.array([-1,1,0]))\n",
    "print(sampler.__dict__.keys())\n",
    "\n",
    "for internal_sampler in sampler.samplers:\n",
    "\thistory_options = history.HistoryOptions(trace_record=True)\n",
    "\thist_opts = history.HistoryOptions.assert_instance(history_options)\n",
    "\tinternal_sampler.neglogpost.__setattr__(\"history\", problem.objective.create_history(\"ch1\", x_names=problem.objective.x_names, options=hist_opts))\n"
   ]
  },
  {
   "cell_type": "code",
   "execution_count": null,
   "metadata": {},
   "outputs": [],
   "source": [
    "%%time\n",
    "sampler.sample(n_samples=10000);\n",
    "\n",
    "#sample.effective_sample_size(result);\n",
    "#sample.auto_correlation(result);"
   ]
  },
  {
   "cell_type": "code",
   "execution_count": null,
   "metadata": {},
   "outputs": [],
   "source": []
  },
  {
   "cell_type": "code",
   "execution_count": null,
   "metadata": {},
   "outputs": [],
   "source": [
    "for internal_sampler in sampler.samplers:\n",
    "\tprint(internal_sampler.neglogpost.history.__dict__[\"_n_fval\"])"
   ]
  },
  {
   "cell_type": "code",
   "execution_count": null,
   "metadata": {},
   "outputs": [],
   "source": [
    "print(sampler.neglogpost.history.__dict__.keys())\n",
    "print(sampler.neglogpost.history.__dict__[\"_n_fval\"])"
   ]
  },
  {
   "cell_type": "markdown",
   "metadata": {},
   "source": [
    "## Translate pyPESTO problem into functions used by pocoMC"
   ]
  },
  {
   "cell_type": "code",
   "execution_count": null,
   "metadata": {},
   "outputs": [],
   "source": [
    "lower_bnds = problem.lb\n",
    "upper_bnds = problem.ub\n",
    "neglogprior = sampler.samplers[0].neglogprior\n",
    "\"\"\"\n",
    "def log_prior(x):\n",
    "    bools = [\n",
    "        (low <= i <= high)\n",
    "        for i, low, high in zip(x, lower_bnds, upper_bnds)\n",
    "    ]\n",
    "    all_in_range = np.all(bools)\n",
    "    if all_in_range:\n",
    "        return -neglogprior(x)\n",
    "    return -np.inf\n",
    "    \"\"\"\n",
    "\n",
    "def log_likelihood(x):\n",
    "\tresult = problem.objective(x=x, return_dict=True)\n",
    "\treturn result[\"llh\"]\n",
    "\n",
    "print(log_likelihood([-2.77,-1,-2]), log_likelihood([1,3,-2]))\n",
    "\n",
    "from scipy.stats import uniform\n",
    "\n",
    "prior = pc.Prior([uniform(loc=lb, scale=np.abs(ub-lb)) for lb,ub in zip(lower_bnds, upper_bnds)])\n",
    "                  "
   ]
  },
  {
   "cell_type": "markdown",
   "metadata": {},
   "source": [
    "## Run PMC"
   ]
  },
  {
   "cell_type": "code",
   "execution_count": null,
   "metadata": {},
   "outputs": [],
   "source": [
    "# Initialise sampler\n",
    "pmc_sampler = pc.Sampler(\n",
    "    prior=prior,\n",
    "    likelihood=log_likelihood,\n",
    "    vectorize=False,\n",
    "    random_state=0,\n",
    "\tdynamic=True\n",
    ")"
   ]
  },
  {
   "cell_type": "code",
   "execution_count": null,
   "metadata": {},
   "outputs": [],
   "source": [
    "pmc_sampler.run()"
   ]
  },
  {
   "cell_type": "code",
   "execution_count": null,
   "metadata": {},
   "outputs": [],
   "source": [
    "import matplotlib.pyplot as plt\n",
    "import corner\n",
    "\n",
    "# Get the results\n",
    "samples, weights, logl, logp = pmc_sampler.posterior()\n",
    "\n",
    "# Trace plot for the first 4 parameters\n",
    "fig = corner.corner(samples, weights=weights, color=\"C0\")\n",
    "plt.show()"
   ]
  },
  {
   "cell_type": "code",
   "execution_count": null,
   "metadata": {},
   "outputs": [],
   "source": []
  }
 ],
 "metadata": {
  "kernelspec": {
   "display_name": "bayes",
   "language": "python",
   "name": "python3"
  },
  "language_info": {
   "codemirror_mode": {
    "name": "ipython",
    "version": 3
   },
   "file_extension": ".py",
   "mimetype": "text/x-python",
   "name": "python",
   "nbconvert_exporter": "python",
   "pygments_lexer": "ipython3",
   "version": "3.12.4"
  }
 },
 "nbformat": 4,
 "nbformat_minor": 2
}
