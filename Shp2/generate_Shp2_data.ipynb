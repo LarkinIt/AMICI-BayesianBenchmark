{
 "cells": [
  {
   "cell_type": "code",
   "execution_count": 1,
   "metadata": {},
   "outputs": [
    {
     "data": {
      "text/plain": [
       "array([  0.,  10.,  20.,  30.,  40.,  50.,  60.,  70.,  80.,  90., 100.,\n",
       "       110.])"
      ]
     },
     "execution_count": 1,
     "metadata": {},
     "output_type": "execute_result"
    }
   ],
   "source": [
    "import numpy as np\n",
    "import roadrunner\n",
    "import pandas as pd\n",
    "import matplotlib.pyplot as plt\n",
    "\n",
    "SEED=1\n",
    "np.random.seed(seed=SEED)\n",
    "\n",
    "# Model system parameters\n",
    "MODEL_SBML_FILE = \"model_Shp2.xml\"\n",
    "DURATION = 700\n",
    "\n",
    "# Synthetic dataset parameters\n",
    "NOISE = 0.02 # % Gaussian noise (range is 0-1)\n",
    "N_PTS = DURATION * 1000 + 1\n",
    "T_PTS = np.arange(0,111,10).astype(float)\n",
    "T_PTS"
   ]
  },
  {
   "cell_type": "code",
   "execution_count": 2,
   "metadata": {},
   "outputs": [],
   "source": [
    "def gaussian_noise(x,std,mu=0):\n",
    "\tnoise = np.random.normal(mu, std, size = x.shape)\n",
    "\tx_noisy = x + noise\n",
    "\treturn x_noisy\n",
    "\n",
    "rr = roadrunner.RoadRunner(MODEL_SBML_FILE)\n",
    "rr.integrator.absolute_tolerance = 5e-10\n",
    "rr.integrator.relative_tolerance = 1e-8\n",
    "\n",
    "rr.resetAll()\n",
    "rr.timeCourseSelections = [\"time\", \"pYR\"]\n",
    "res = rr.simulate(times=T_PTS)\n",
    "prod_traj = res[:, 1]\n",
    "std = NOISE * prod_traj\n",
    "noisy_data = gaussian_noise(prod_traj, std)\n",
    "rr.resetAll()\n",
    "rr.timeCourseSelections = [\"time\", \"pYR\"]\n",
    "res = rr.simulate(0,120, 1201)"
   ]
  },
  {
   "cell_type": "code",
   "execution_count": 3,
   "metadata": {},
   "outputs": [
    {
     "data": {
      "image/png": "[encoded data removed]",
      "text/plain": [
       "<Figure size 640x480 with 1 Axes>"
      ]
     },
     "metadata": {},
     "output_type": "display_data"
    }
   ],
   "source": [
    "plt.figure(dpi=100)\n",
    "plt.plot(res[:,0], res[:,1], 'k-', lw=1, label=\"Original\")\n",
    "plt.plot(T_PTS, noisy_data, 'rx', markersize=7, label=\"Noisy Data\")\n",
    "plt.legend()\n",
    "plt.xlabel(\"Time\");\n",
    "plt.ylabel(\"pYR\");"
   ]
  },
  {
   "cell_type": "code",
   "execution_count": 4,
   "metadata": {},
   "outputs": [
    {
     "data": {
      "text/html": [
       "<div>\n",
       "<style scoped>\n",
       "    .dataframe tbody tr th:only-of-type {\n",
       "        vertical-align: middle;\n",
       "    }\n",
       "\n",
       "    .dataframe tbody tr th {\n",
       "        vertical-align: top;\n",
       "    }\n",
       "\n",
       "    .dataframe thead th {\n",
       "        text-align: right;\n",
       "    }\n",
       "</style>\n",
       "<table border=\"1\" class=\"dataframe\">\n",
       "  <thead>\n",
       "    <tr style=\"text-align: right;\">\n",
       "      <th></th>\n",
       "      <th>observableId</th>\n",
       "      <th>simulationConditionId</th>\n",
       "      <th>measurement</th>\n",
       "      <th>time</th>\n",
       "    </tr>\n",
       "  </thead>\n",
       "  <tbody>\n",
       "    <tr>\n",
       "      <th>0</th>\n",
       "      <td>observable_pYR</td>\n",
       "      <td>simCondition</td>\n",
       "      <td>0.000000</td>\n",
       "      <td>0.0</td>\n",
       "    </tr>\n",
       "    <tr>\n",
       "      <th>1</th>\n",
       "      <td>observable_pYR</td>\n",
       "      <td>simCondition</td>\n",
       "      <td>0.019141</td>\n",
       "      <td>10.0</td>\n",
       "    </tr>\n",
       "    <tr>\n",
       "      <th>2</th>\n",
       "      <td>observable_pYR</td>\n",
       "      <td>simCondition</td>\n",
       "      <td>0.018059</td>\n",
       "      <td>20.0</td>\n",
       "    </tr>\n",
       "    <tr>\n",
       "      <th>3</th>\n",
       "      <td>observable_pYR</td>\n",
       "      <td>simCondition</td>\n",
       "      <td>0.016272</td>\n",
       "      <td>30.0</td>\n",
       "    </tr>\n",
       "    <tr>\n",
       "      <th>4</th>\n",
       "      <td>observable_pYR</td>\n",
       "      <td>simCondition</td>\n",
       "      <td>0.016160</td>\n",
       "      <td>40.0</td>\n",
       "    </tr>\n",
       "    <tr>\n",
       "      <th>5</th>\n",
       "      <td>observable_pYR</td>\n",
       "      <td>simCondition</td>\n",
       "      <td>0.014895</td>\n",
       "      <td>50.0</td>\n",
       "    </tr>\n",
       "    <tr>\n",
       "      <th>6</th>\n",
       "      <td>observable_pYR</td>\n",
       "      <td>simCondition</td>\n",
       "      <td>0.016065</td>\n",
       "      <td>60.0</td>\n",
       "    </tr>\n",
       "    <tr>\n",
       "      <th>7</th>\n",
       "      <td>observable_pYR</td>\n",
       "      <td>simCondition</td>\n",
       "      <td>0.015260</td>\n",
       "      <td>70.0</td>\n",
       "    </tr>\n",
       "    <tr>\n",
       "      <th>8</th>\n",
       "      <td>observable_pYR</td>\n",
       "      <td>simCondition</td>\n",
       "      <td>0.015586</td>\n",
       "      <td>80.0</td>\n",
       "    </tr>\n",
       "    <tr>\n",
       "      <th>9</th>\n",
       "      <td>observable_pYR</td>\n",
       "      <td>simCondition</td>\n",
       "      <td>0.015408</td>\n",
       "      <td>90.0</td>\n",
       "    </tr>\n",
       "    <tr>\n",
       "      <th>10</th>\n",
       "      <td>observable_pYR</td>\n",
       "      <td>simCondition</td>\n",
       "      <td>0.015937</td>\n",
       "      <td>100.0</td>\n",
       "    </tr>\n",
       "    <tr>\n",
       "      <th>11</th>\n",
       "      <td>observable_pYR</td>\n",
       "      <td>simCondition</td>\n",
       "      <td>0.014846</td>\n",
       "      <td>110.0</td>\n",
       "    </tr>\n",
       "  </tbody>\n",
       "</table>\n",
       "</div>"
      ],
      "text/plain": [
       "      observableId simulationConditionId  measurement   time\n",
       "0   observable_pYR          simCondition     0.000000    0.0\n",
       "1   observable_pYR          simCondition     0.019141   10.0\n",
       "2   observable_pYR          simCondition     0.018059   20.0\n",
       "3   observable_pYR          simCondition     0.016272   30.0\n",
       "4   observable_pYR          simCondition     0.016160   40.0\n",
       "5   observable_pYR          simCondition     0.014895   50.0\n",
       "6   observable_pYR          simCondition     0.016065   60.0\n",
       "7   observable_pYR          simCondition     0.015260   70.0\n",
       "8   observable_pYR          simCondition     0.015586   80.0\n",
       "9   observable_pYR          simCondition     0.015408   90.0\n",
       "10  observable_pYR          simCondition     0.015937  100.0\n",
       "11  observable_pYR          simCondition     0.014846  110.0"
      ]
     },
     "execution_count": 4,
     "metadata": {},
     "output_type": "execute_result"
    }
   ],
   "source": [
    "N_DATA = len(T_PTS)\n",
    "# Save for later\n",
    "df = pd.DataFrame()\n",
    "\n",
    "df[\"observableId\"] = [\"observable_pYR\"] * N_DATA\n",
    "df[\"simulationConditionId\"] = [\"simCondition\"] * N_DATA\n",
    "df[\"measurement\"] = noisy_data\n",
    "df[\"time\"] = T_PTS\n",
    "#df[\"noiseParameters\"] = [0] * N_DATA\n",
    "df.to_csv(\"measurementData_Shp2.tsv\", sep=\"\\t\", index=False)\n",
    "df"
   ]
  },
  {
   "cell_type": "code",
   "execution_count": 5,
   "metadata": {},
   "outputs": [
    {
     "name": "stdout",
     "output_type": "stream",
     "text": [
      "/home/larkinit/anaconda3/envs/test1/lib/python3.12/site-packages/petab/v2/__init__.py:12: UserWarning: Support for PEtab2.0 and all of petab.v2 is experimental and subject to changes!\n",
      "  warn(\n",
      "\u001b[0m"
     ]
    }
   ],
   "source": [
    "!petablint ./Shp2.yaml"
   ]
  },
  {
   "cell_type": "code",
   "execution_count": null,
   "metadata": {},
   "outputs": [],
   "source": []
  }
 ],
 "metadata": {
  "kernelspec": {
   "display_name": "test1",
   "language": "python",
   "name": "python3"
  },
  "language_info": {
   "codemirror_mode": {
    "name": "ipython",
    "version": 3
   },
   "file_extension": ".py",
   "mimetype": "text/x-python",
   "name": "python",
   "nbconvert_exporter": "python",
   "pygments_lexer": "ipython3",
   "version": "3.12.4"
  }
 },
 "nbformat": 4,
 "nbformat_minor": 2
}
